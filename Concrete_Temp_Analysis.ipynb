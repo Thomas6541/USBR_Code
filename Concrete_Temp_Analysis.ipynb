{
 "cells": [
  {
   "cell_type": "markdown",
   "metadata": {},
   "source": [
    "### This code provides statistical and graphical representation of temperature readings obtained from the field. \n",
    "#### Author: Thomas Robbins, Civil Engineer, Construction Engineering Group\n",
    "\n",
    "##### Note: To properly use this code, please read the comments and bold text sections above each block of code. The comments are imbedded within the code block, and are identified in green and preceded by a hashtag '#'"
   ]
  },
  {
   "cell_type": "code",
   "execution_count": 1,
   "metadata": {},
   "outputs": [],
   "source": [
    "# These 'import' codes bring in appropriate libraries needed to run the program\n",
    "\n",
    "import pandas as pd\n",
    "import csv\n",
    "import matplotlib.pyplot as plt\n",
    "import numpy as np\n",
    "import pylab"
   ]
  },
  {
   "cell_type": "markdown",
   "metadata": {},
   "source": [
    "#### The below section of code imports the csv file containing the data. You will have to ensure that the file exists in the folder that this code is running in, and you will need to change the 'red' text in the code to match the file name of the data you want to import\n",
    "#### If the 'Alarm' feature was used during the collection of temperature readings, you will remove the '#' before the last line of code in this block, and add a '#' before the 3rd line in this block. "
   ]
  },
  {
   "cell_type": "code",
   "execution_count": 2,
   "metadata": {},
   "outputs": [],
   "source": [
    "# Imports the data 'csv' file and skips the header section (first five, or Nine rows)\n",
    "\n",
    "# Use this if there was no alarm event in the temp file\n",
    "df = pd.read_csv('B582127E.csv', skiprows=range(0,4), date_parser = pd.to_datetime)\n",
    "\n",
    "# use this if there was an alarm event in temp file\n",
    "# df = pd.read_csv('B582127B.csv', skiprows=range(0,8), date_parser = pd.to_datetime)"
   ]
  },
  {
   "cell_type": "markdown",
   "metadata": {},
   "source": [
    "#### Due to the temperature device reading in C, the following code changes the temp to F. "
   ]
  },
  {
   "cell_type": "code",
   "execution_count": 3,
   "metadata": {},
   "outputs": [],
   "source": [
    "# This code replaces Celsius to Fahrenheit in column 1. \n",
    "# If you need to change to any other column, then just change red 'P1' to new column name\n",
    "\n",
    "def f(x):\n",
    "    x = (x * 1.8) + 32\n",
    "    return float(x)\n",
    "\n",
    "df['P1'] = df['P1'].apply(f)"
   ]
  },
  {
   "cell_type": "code",
   "execution_count": 4,
   "metadata": {},
   "outputs": [
    {
     "data": {
      "text/html": [
       "<div>\n",
       "<style scoped>\n",
       "    .dataframe tbody tr th:only-of-type {\n",
       "        vertical-align: middle;\n",
       "    }\n",
       "\n",
       "    .dataframe tbody tr th {\n",
       "        vertical-align: top;\n",
       "    }\n",
       "\n",
       "    .dataframe thead th {\n",
       "        text-align: right;\n",
       "    }\n",
       "</style>\n",
       "<table border=\"1\" class=\"dataframe\">\n",
       "  <thead>\n",
       "    <tr style=\"text-align: right;\">\n",
       "      <th></th>\n",
       "      <th>P1</th>\n",
       "      <th>P2</th>\n",
       "      <th>Time</th>\n",
       "      <th>Date</th>\n",
       "    </tr>\n",
       "  </thead>\n",
       "  <tbody>\n",
       "    <tr>\n",
       "      <th>0</th>\n",
       "      <td>73.688</td>\n",
       "      <td>0.0</td>\n",
       "      <td>21:45</td>\n",
       "      <td>12/19/18</td>\n",
       "    </tr>\n",
       "    <tr>\n",
       "      <th>1</th>\n",
       "      <td>73.544</td>\n",
       "      <td>0.0</td>\n",
       "      <td>21:30</td>\n",
       "      <td>12/19/18</td>\n",
       "    </tr>\n",
       "    <tr>\n",
       "      <th>2</th>\n",
       "      <td>73.130</td>\n",
       "      <td>0.0</td>\n",
       "      <td>21:15</td>\n",
       "      <td>12/19/18</td>\n",
       "    </tr>\n",
       "    <tr>\n",
       "      <th>3</th>\n",
       "      <td>50.900</td>\n",
       "      <td>0.0</td>\n",
       "      <td>21:00</td>\n",
       "      <td>12/19/18</td>\n",
       "    </tr>\n",
       "  </tbody>\n",
       "</table>\n",
       "</div>"
      ],
      "text/plain": [
       "       P1   P2   Time      Date\n",
       "0  73.688  0.0  21:45  12/19/18\n",
       "1  73.544  0.0  21:30  12/19/18\n",
       "2  73.130  0.0  21:15  12/19/18\n",
       "3  50.900  0.0  21:00  12/19/18"
      ]
     },
     "execution_count": 4,
     "metadata": {},
     "output_type": "execute_result"
    }
   ],
   "source": [
    "# This code just shows you what the first four rows look like. \n",
    "df[0:4]"
   ]
  },
  {
   "cell_type": "code",
   "execution_count": 5,
   "metadata": {},
   "outputs": [
    {
     "data": {
      "text/html": [
       "<div>\n",
       "<style scoped>\n",
       "    .dataframe tbody tr th:only-of-type {\n",
       "        vertical-align: middle;\n",
       "    }\n",
       "\n",
       "    .dataframe tbody tr th {\n",
       "        vertical-align: top;\n",
       "    }\n",
       "\n",
       "    .dataframe thead th {\n",
       "        text-align: right;\n",
       "    }\n",
       "</style>\n",
       "<table border=\"1\" class=\"dataframe\">\n",
       "  <thead>\n",
       "    <tr style=\"text-align: right;\">\n",
       "      <th></th>\n",
       "      <th>P1</th>\n",
       "      <th>P2</th>\n",
       "    </tr>\n",
       "  </thead>\n",
       "  <tbody>\n",
       "    <tr>\n",
       "      <th>count</th>\n",
       "      <td>508.000000</td>\n",
       "      <td>508.0</td>\n",
       "    </tr>\n",
       "    <tr>\n",
       "      <th>mean</th>\n",
       "      <td>67.836016</td>\n",
       "      <td>0.0</td>\n",
       "    </tr>\n",
       "    <tr>\n",
       "      <th>std</th>\n",
       "      <td>5.500570</td>\n",
       "      <td>0.0</td>\n",
       "    </tr>\n",
       "    <tr>\n",
       "      <th>min</th>\n",
       "      <td>41.162000</td>\n",
       "      <td>0.0</td>\n",
       "    </tr>\n",
       "    <tr>\n",
       "      <th>25%</th>\n",
       "      <td>66.866000</td>\n",
       "      <td>0.0</td>\n",
       "    </tr>\n",
       "    <tr>\n",
       "      <th>50%</th>\n",
       "      <td>69.269000</td>\n",
       "      <td>0.0</td>\n",
       "    </tr>\n",
       "    <tr>\n",
       "      <th>75%</th>\n",
       "      <td>71.055500</td>\n",
       "      <td>0.0</td>\n",
       "    </tr>\n",
       "    <tr>\n",
       "      <th>max</th>\n",
       "      <td>75.578000</td>\n",
       "      <td>0.0</td>\n",
       "    </tr>\n",
       "  </tbody>\n",
       "</table>\n",
       "</div>"
      ],
      "text/plain": [
       "               P1     P2\n",
       "count  508.000000  508.0\n",
       "mean    67.836016    0.0\n",
       "std      5.500570    0.0\n",
       "min     41.162000    0.0\n",
       "25%     66.866000    0.0\n",
       "50%     69.269000    0.0\n",
       "75%     71.055500    0.0\n",
       "max     75.578000    0.0"
      ]
     },
     "execution_count": 5,
     "metadata": {},
     "output_type": "execute_result"
    }
   ],
   "source": [
    "# Provides a basic statistical analysis on all the temperature readings\n",
    "# Count = total temperature readings\n",
    "# Mean = Average temperature\n",
    "# min = minimum temperature\n",
    "df.describe()"
   ]
  },
  {
   "cell_type": "code",
   "execution_count": 6,
   "metadata": {},
   "outputs": [
    {
     "name": "stdout",
     "output_type": "stream",
     "text": [
      "('mean = ', 67.8360157480316)\n",
      "('minimum =', 41.162)\n",
      "('maximum =', 75.578)\n"
     ]
    }
   ],
   "source": [
    "# Same as above code, only in different format\n",
    "\n",
    "# Average of all temp values\n",
    "print('mean = ', np.mean(df['P1'], axis=0))\n",
    "\n",
    "# minimum of all temperature values\n",
    "print('minimum =',np.min(df['P1'], axis=0))\n",
    "\n",
    "# maximum of all temperature values\n",
    "print('maximum =',np.max(df['P1'], axis=0))"
   ]
  },
  {
   "cell_type": "code",
   "execution_count": 7,
   "metadata": {},
   "outputs": [
    {
     "data": {
      "text/html": [
       "<div>\n",
       "<style scoped>\n",
       "    .dataframe tbody tr th:only-of-type {\n",
       "        vertical-align: middle;\n",
       "    }\n",
       "\n",
       "    .dataframe tbody tr th {\n",
       "        vertical-align: top;\n",
       "    }\n",
       "\n",
       "    .dataframe thead th {\n",
       "        text-align: right;\n",
       "    }\n",
       "</style>\n",
       "<table border=\"1\" class=\"dataframe\">\n",
       "  <thead>\n",
       "    <tr style=\"text-align: right;\">\n",
       "      <th></th>\n",
       "      <th>P1</th>\n",
       "      <th>P2</th>\n",
       "    </tr>\n",
       "  </thead>\n",
       "  <tbody>\n",
       "    <tr>\n",
       "      <th>count</th>\n",
       "      <td>9.000000</td>\n",
       "      <td>9.0</td>\n",
       "    </tr>\n",
       "    <tr>\n",
       "      <th>mean</th>\n",
       "      <td>44.894000</td>\n",
       "      <td>0.0</td>\n",
       "    </tr>\n",
       "    <tr>\n",
       "      <th>std</th>\n",
       "      <td>3.891831</td>\n",
       "      <td>0.0</td>\n",
       "    </tr>\n",
       "    <tr>\n",
       "      <th>min</th>\n",
       "      <td>41.162000</td>\n",
       "      <td>0.0</td>\n",
       "    </tr>\n",
       "    <tr>\n",
       "      <th>25%</th>\n",
       "      <td>41.720000</td>\n",
       "      <td>0.0</td>\n",
       "    </tr>\n",
       "    <tr>\n",
       "      <th>50%</th>\n",
       "      <td>42.098000</td>\n",
       "      <td>0.0</td>\n",
       "    </tr>\n",
       "    <tr>\n",
       "      <th>75%</th>\n",
       "      <td>48.272000</td>\n",
       "      <td>0.0</td>\n",
       "    </tr>\n",
       "    <tr>\n",
       "      <th>max</th>\n",
       "      <td>49.820000</td>\n",
       "      <td>0.0</td>\n",
       "    </tr>\n",
       "  </tbody>\n",
       "</table>\n",
       "</div>"
      ],
      "text/plain": [
       "              P1   P2\n",
       "count   9.000000  9.0\n",
       "mean   44.894000  0.0\n",
       "std     3.891831  0.0\n",
       "min    41.162000  0.0\n",
       "25%    41.720000  0.0\n",
       "50%    42.098000  0.0\n",
       "75%    48.272000  0.0\n",
       "max    49.820000  0.0"
      ]
     },
     "execution_count": 7,
     "metadata": {},
     "output_type": "execute_result"
    }
   ],
   "source": [
    "# finds all temperature values less than BOR required 50 degree temps\n",
    "# and performs general statistics on those data points. \n",
    "TempCount = df.loc[df['P1'] <= 50]\n",
    "TempCount.describe()\n",
    "\n",
    "# Note: If no values are less then BoR prescribed value, then 'NaN' will show in table. "
   ]
  },
  {
   "cell_type": "markdown",
   "metadata": {},
   "source": [
    "#### The following code provides a graphical representation of all the days, and temperatures that are listed in the file."
   ]
  },
  {
   "cell_type": "code",
   "execution_count": 8,
   "metadata": {},
   "outputs": [
    {
     "name": "stdout",
     "output_type": "stream",
     "text": [
      "12/14/18\n",
      "12/15/18\n",
      "12/16/18\n",
      "12/17/18\n",
      "12/18/18\n",
      "12/19/18\n"
     ]
    },
    {
     "data": {
      "image/png": "[encoded data removed]",
      "text/plain": [
       "<Figure size 432x288 with 1 Axes>"
      ]
     },
     "metadata": {
      "needs_background": "light"
     },
     "output_type": "display_data"
    }
   ],
   "source": [
    "# This produces a graph to represent the entire period, in days, temperature was recorded. \n",
    "# To export this graph 'right-click' on the figure and 'save picture as' \n",
    "\n",
    "cnt = 0\n",
    "fig, ax = plt.subplots()\n",
    "for sample, data in df.groupby('Date'):\n",
    "    print(sample) # access to sample name\n",
    "    cnt = cnt+1\n",
    "    data['P1'].plot(label=sample) # process sample records\n",
    "    # ax = fig.add_subplot(5,5,cnt)\n",
    "    # ax.plot(df['Time'], df[['P1']])\n",
    "    # ax.set_title(sample)\n",
    "\n",
    "plt.tight_layout()\n",
    "plt.title('Temperature vs Day')\n",
    "plt.xlabel('Date')\n",
    "plt.ylabel('Temperature F')\n",
    "pylab.legend(loc='upper center')\n",
    "plt.gca().invert_xaxis()\n",
    "plt.show()"
   ]
  },
  {
   "cell_type": "code",
   "execution_count": 10,
   "metadata": {},
   "outputs": [
    {
     "data": {
      "text/plain": [
       "<matplotlib.axes._subplots.AxesSubplot at 0xbb529b0>"
      ]
     },
     "execution_count": 10,
     "metadata": {},
     "output_type": "execute_result"
    },
    {
     "data": {
      "image/png": "[encoded data removed]",
      "text/plain": [
       "<Figure size 432x288 with 1 Axes>"
      ]
     },
     "metadata": {
      "needs_background": "light"
     },
     "output_type": "display_data"
    }
   ],
   "source": [
    "# Field values\n",
    "g = df.groupby(['Date'])\n",
    "Field = g.get_group('12/19/18')\n",
    "plt.gca().invert_xaxis()\n",
    "Field['P1'].plot()"
   ]
  }
 ],
 "metadata": {
  "kernelspec": {
   "display_name": "Python 2",
   "language": "python",
   "name": "python2"
  },
  "language_info": {
   "codemirror_mode": {
    "name": "ipython",
    "version": 2
   },
   "file_extension": ".py",
   "mimetype": "text/x-python",
   "name": "python",
   "nbconvert_exporter": "python",
   "pygments_lexer": "ipython2",
   "version": "2.7.15"
  }
 },
 "nbformat": 4,
 "nbformat_minor": 2
}
