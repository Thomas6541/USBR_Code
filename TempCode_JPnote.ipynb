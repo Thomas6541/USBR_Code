{
 "cells": [
  {
   "cell_type": "code",
   "execution_count": 1,
   "metadata": {},
   "outputs": [],
   "source": [
    "import pandas as pd\n",
    "import csv\n",
    "import matplotlib.pyplot as plt\n",
    "import numpy as np"
   ]
  },
  {
   "cell_type": "code",
   "execution_count": 2,
   "metadata": {},
   "outputs": [],
   "source": [
    "# user defined input values\n",
    "MinTemp = 32\n",
    "DayTemp = '2018-12-16'"
   ]
  },
  {
   "cell_type": "code",
   "execution_count": 3,
   "metadata": {},
   "outputs": [
    {
     "data": {
      "text/html": [
       "<div>\n",
       "<style scoped>\n",
       "    .dataframe tbody tr th:only-of-type {\n",
       "        vertical-align: middle;\n",
       "    }\n",
       "\n",
       "    .dataframe tbody tr th {\n",
       "        vertical-align: top;\n",
       "    }\n",
       "\n",
       "    .dataframe thead th {\n",
       "        text-align: right;\n",
       "    }\n",
       "</style>\n",
       "<table border=\"1\" class=\"dataframe\">\n",
       "  <thead>\n",
       "    <tr style=\"text-align: right;\">\n",
       "      <th></th>\n",
       "      <th>P1</th>\n",
       "      <th>P2</th>\n",
       "      <th>Time</th>\n",
       "      <th>Date</th>\n",
       "    </tr>\n",
       "  </thead>\n",
       "  <tbody>\n",
       "    <tr>\n",
       "      <th>0</th>\n",
       "      <td>22.04</td>\n",
       "      <td>0.0</td>\n",
       "      <td>10:00</td>\n",
       "      <td>12/17/18</td>\n",
       "    </tr>\n",
       "    <tr>\n",
       "      <th>1</th>\n",
       "      <td>22.02</td>\n",
       "      <td>0.0</td>\n",
       "      <td>09:45</td>\n",
       "      <td>12/17/18</td>\n",
       "    </tr>\n",
       "    <tr>\n",
       "      <th>2</th>\n",
       "      <td>22.05</td>\n",
       "      <td>0.0</td>\n",
       "      <td>09:30</td>\n",
       "      <td>12/17/18</td>\n",
       "    </tr>\n",
       "  </tbody>\n",
       "</table>\n",
       "</div>"
      ],
      "text/plain": [
       "      P1   P2   Time      Date\n",
       "0  22.04  0.0  10:00  12/17/18\n",
       "1  22.02  0.0  09:45  12/17/18\n",
       "2  22.05  0.0  09:30  12/17/18"
      ]
     },
     "execution_count": 3,
     "metadata": {},
     "output_type": "execute_result"
    }
   ],
   "source": [
    "# Reads in csv file and skips first 9 rows.\n",
    "data = pd.read_csv('B582127C.csv', skiprows=range(0,4), date_parser = pd.to_datetime)\n",
    "data[0:3]"
   ]
  },
  {
   "cell_type": "code",
   "execution_count": 4,
   "metadata": {},
   "outputs": [],
   "source": [
    "# This code replaces Celsius to Fahrenheit in column 1. \n",
    "# If you need to change to any other column, then just change red 'P1' to new column name\n",
    "def f(x):\n",
    "    x = (x * 1.8) + 32\n",
    "    return float(x)\n",
    "\n",
    "data['P1'] = data['P1'].apply(f)"
   ]
  },
  {
   "cell_type": "code",
   "execution_count": 5,
   "metadata": {},
   "outputs": [
    {
     "data": {
      "text/html": [
       "<div>\n",
       "<style scoped>\n",
       "    .dataframe tbody tr th:only-of-type {\n",
       "        vertical-align: middle;\n",
       "    }\n",
       "\n",
       "    .dataframe tbody tr th {\n",
       "        vertical-align: top;\n",
       "    }\n",
       "\n",
       "    .dataframe thead th {\n",
       "        text-align: right;\n",
       "    }\n",
       "</style>\n",
       "<table border=\"1\" class=\"dataframe\">\n",
       "  <thead>\n",
       "    <tr style=\"text-align: right;\">\n",
       "      <th></th>\n",
       "      <th>P1</th>\n",
       "      <th>P2</th>\n",
       "      <th>Time</th>\n",
       "      <th>Date</th>\n",
       "    </tr>\n",
       "  </thead>\n",
       "  <tbody>\n",
       "    <tr>\n",
       "      <th>0</th>\n",
       "      <td>71.672</td>\n",
       "      <td>0.0</td>\n",
       "      <td>10:00</td>\n",
       "      <td>12/17/18</td>\n",
       "    </tr>\n",
       "    <tr>\n",
       "      <th>1</th>\n",
       "      <td>71.636</td>\n",
       "      <td>0.0</td>\n",
       "      <td>09:45</td>\n",
       "      <td>12/17/18</td>\n",
       "    </tr>\n",
       "    <tr>\n",
       "      <th>2</th>\n",
       "      <td>71.690</td>\n",
       "      <td>0.0</td>\n",
       "      <td>09:30</td>\n",
       "      <td>12/17/18</td>\n",
       "    </tr>\n",
       "  </tbody>\n",
       "</table>\n",
       "</div>"
      ],
      "text/plain": [
       "       P1   P2   Time      Date\n",
       "0  71.672  0.0  10:00  12/17/18\n",
       "1  71.636  0.0  09:45  12/17/18\n",
       "2  71.690  0.0  09:30  12/17/18"
      ]
     },
     "execution_count": 5,
     "metadata": {},
     "output_type": "execute_result"
    }
   ],
   "source": [
    "data[0:3]"
   ]
  },
  {
   "cell_type": "code",
   "execution_count": 6,
   "metadata": {},
   "outputs": [],
   "source": [
    "# create variable with minimum allowable temp\n",
    "cold = data['P1'] <= MinTemp"
   ]
  },
  {
   "cell_type": "code",
   "execution_count": 7,
   "metadata": {},
   "outputs": [],
   "source": [
    "temp = data['P1'].values"
   ]
  },
  {
   "cell_type": "code",
   "execution_count": 8,
   "metadata": {},
   "outputs": [],
   "source": [
    "# create variable with date of interest\n",
    "date = data['Date'] == DayTemp"
   ]
  },
  {
   "cell_type": "code",
   "execution_count": 9,
   "metadata": {},
   "outputs": [
    {
     "name": "stdout",
     "output_type": "stream",
     "text": [
      "68.4463866171\n"
     ]
    }
   ],
   "source": [
    "# Average of all temp values\n",
    "print(np.mean(data['P1'], axis=0))"
   ]
  },
  {
   "cell_type": "code",
   "execution_count": 10,
   "metadata": {},
   "outputs": [
    {
     "name": "stdout",
     "output_type": "stream",
     "text": [
      "66.254\n"
     ]
    }
   ],
   "source": [
    "# minimum of all temperature values\n",
    "print(np.min(data['P1'], axis=0))"
   ]
  },
  {
   "cell_type": "code",
   "execution_count": 11,
   "metadata": {},
   "outputs": [
    {
     "name": "stdout",
     "output_type": "stream",
     "text": [
      "73.49000000000001\n"
     ]
    }
   ],
   "source": [
    "# maximum of all temperature values\n",
    "print(np.max(data['P1'], axis=0))"
   ]
  },
  {
   "cell_type": "code",
   "execution_count": 12,
   "metadata": {},
   "outputs": [],
   "source": [
    "# converts Date text to a number Python can read\n",
    "data['Date'] = pd.to_datetime(data.Date)"
   ]
  },
  {
   "cell_type": "code",
   "execution_count": 13,
   "metadata": {},
   "outputs": [
    {
     "data": {
      "text/html": [
       "<div>\n",
       "<style scoped>\n",
       "    .dataframe tbody tr th:only-of-type {\n",
       "        vertical-align: middle;\n",
       "    }\n",
       "\n",
       "    .dataframe tbody tr th {\n",
       "        vertical-align: top;\n",
       "    }\n",
       "\n",
       "    .dataframe thead th {\n",
       "        text-align: right;\n",
       "    }\n",
       "</style>\n",
       "<table border=\"1\" class=\"dataframe\">\n",
       "  <thead>\n",
       "    <tr style=\"text-align: right;\">\n",
       "      <th></th>\n",
       "      <th>P1</th>\n",
       "      <th>P2</th>\n",
       "      <th>Time</th>\n",
       "      <th>Date</th>\n",
       "    </tr>\n",
       "  </thead>\n",
       "  <tbody>\n",
       "    <tr>\n",
       "      <th>190</th>\n",
       "      <td>69.116</td>\n",
       "      <td>0.0</td>\n",
       "      <td>10:30</td>\n",
       "      <td>2018-12-15</td>\n",
       "    </tr>\n",
       "    <tr>\n",
       "      <th>191</th>\n",
       "      <td>69.080</td>\n",
       "      <td>0.0</td>\n",
       "      <td>10:15</td>\n",
       "      <td>2018-12-15</td>\n",
       "    </tr>\n",
       "    <tr>\n",
       "      <th>192</th>\n",
       "      <td>69.062</td>\n",
       "      <td>0.0</td>\n",
       "      <td>10:00</td>\n",
       "      <td>2018-12-15</td>\n",
       "    </tr>\n",
       "    <tr>\n",
       "      <th>193</th>\n",
       "      <td>69.044</td>\n",
       "      <td>0.0</td>\n",
       "      <td>09:45</td>\n",
       "      <td>2018-12-15</td>\n",
       "    </tr>\n",
       "    <tr>\n",
       "      <th>194</th>\n",
       "      <td>69.008</td>\n",
       "      <td>0.0</td>\n",
       "      <td>09:30</td>\n",
       "      <td>2018-12-15</td>\n",
       "    </tr>\n",
       "    <tr>\n",
       "      <th>195</th>\n",
       "      <td>68.990</td>\n",
       "      <td>0.0</td>\n",
       "      <td>09:15</td>\n",
       "      <td>2018-12-15</td>\n",
       "    </tr>\n",
       "    <tr>\n",
       "      <th>196</th>\n",
       "      <td>68.954</td>\n",
       "      <td>0.0</td>\n",
       "      <td>09:00</td>\n",
       "      <td>2018-12-15</td>\n",
       "    </tr>\n",
       "    <tr>\n",
       "      <th>197</th>\n",
       "      <td>69.080</td>\n",
       "      <td>0.0</td>\n",
       "      <td>08:45</td>\n",
       "      <td>2018-12-15</td>\n",
       "    </tr>\n",
       "    <tr>\n",
       "      <th>198</th>\n",
       "      <td>69.152</td>\n",
       "      <td>0.0</td>\n",
       "      <td>08:30</td>\n",
       "      <td>2018-12-15</td>\n",
       "    </tr>\n",
       "    <tr>\n",
       "      <th>199</th>\n",
       "      <td>69.152</td>\n",
       "      <td>0.0</td>\n",
       "      <td>08:15</td>\n",
       "      <td>2018-12-15</td>\n",
       "    </tr>\n",
       "    <tr>\n",
       "      <th>200</th>\n",
       "      <td>69.134</td>\n",
       "      <td>0.0</td>\n",
       "      <td>08:00</td>\n",
       "      <td>2018-12-15</td>\n",
       "    </tr>\n",
       "  </tbody>\n",
       "</table>\n",
       "</div>"
      ],
      "text/plain": [
       "         P1   P2   Time       Date\n",
       "190  69.116  0.0  10:30 2018-12-15\n",
       "191  69.080  0.0  10:15 2018-12-15\n",
       "192  69.062  0.0  10:00 2018-12-15\n",
       "193  69.044  0.0  09:45 2018-12-15\n",
       "194  69.008  0.0  09:30 2018-12-15\n",
       "195  68.990  0.0  09:15 2018-12-15\n",
       "196  68.954  0.0  09:00 2018-12-15\n",
       "197  69.080  0.0  08:45 2018-12-15\n",
       "198  69.152  0.0  08:30 2018-12-15\n",
       "199  69.152  0.0  08:15 2018-12-15\n",
       "200  69.134  0.0  08:00 2018-12-15"
      ]
     },
     "execution_count": 13,
     "metadata": {},
     "output_type": "execute_result"
    }
   ],
   "source": [
    "# Verify date has changed, note this shows outliers in data\n",
    "data[190:201]"
   ]
  },
  {
   "cell_type": "code",
   "execution_count": 14,
   "metadata": {},
   "outputs": [],
   "source": [
    "# Create date variable. \n",
    "date = data['Date'] == DayTemp"
   ]
  },
  {
   "cell_type": "code",
   "execution_count": 15,
   "metadata": {},
   "outputs": [
    {
     "data": {
      "text/plain": [
       "array([[66.614, 0.0, '23:45', Timestamp('2018-12-16 00:00:00')],\n",
       "       [66.65, 0.0, '23:30', Timestamp('2018-12-16 00:00:00')],\n",
       "       [66.668, 0.0, '23:15', Timestamp('2018-12-16 00:00:00')],\n",
       "       [66.70400000000001, 0.0, '23:00',\n",
       "        Timestamp('2018-12-16 00:00:00')],\n",
       "       [66.72200000000001, 0.0, '22:45',\n",
       "        Timestamp('2018-12-16 00:00:00')],\n",
       "       [66.758, 0.0, '22:30', Timestamp('2018-12-16 00:00:00')],\n",
       "       [66.794, 0.0, '22:15', Timestamp('2018-12-16 00:00:00')],\n",
       "       [66.848, 0.0, '22:00', Timestamp('2018-12-16 00:00:00')],\n",
       "       [66.884, 0.0, '21:45', Timestamp('2018-12-16 00:00:00')],\n",
       "       [66.938, 0.0, '21:30', Timestamp('2018-12-16 00:00:00')],\n",
       "       [66.974, 0.0, '21:15', Timestamp('2018-12-16 00:00:00')],\n",
       "       [67.04599999999999, 0.0, '21:00',\n",
       "        Timestamp('2018-12-16 00:00:00')],\n",
       "       [67.1, 0.0, '20:45', Timestamp('2018-12-16 00:00:00')],\n",
       "       [67.19, 0.0, '20:30', Timestamp('2018-12-16 00:00:00')],\n",
       "       [67.28, 0.0, '20:15', Timestamp('2018-12-16 00:00:00')],\n",
       "       [67.37, 0.0, '20:00', Timestamp('2018-12-16 00:00:00')],\n",
       "       [67.334, 0.0, '19:45', Timestamp('2018-12-16 00:00:00')],\n",
       "       [67.316, 0.0, '19:30', Timestamp('2018-12-16 00:00:00')],\n",
       "       [67.298, 0.0, '19:15', Timestamp('2018-12-16 00:00:00')],\n",
       "       [67.262, 0.0, '19:00', Timestamp('2018-12-16 00:00:00')],\n",
       "       [67.208, 0.0, '18:45', Timestamp('2018-12-16 00:00:00')],\n",
       "       [67.172, 0.0, '18:30', Timestamp('2018-12-16 00:00:00')],\n",
       "       [67.118, 0.0, '18:15', Timestamp('2018-12-16 00:00:00')],\n",
       "       [67.1, 0.0, '18:00', Timestamp('2018-12-16 00:00:00')],\n",
       "       [67.082, 0.0, '17:45', Timestamp('2018-12-16 00:00:00')],\n",
       "       [67.04599999999999, 0.0, '17:30',\n",
       "        Timestamp('2018-12-16 00:00:00')],\n",
       "       [67.00999999999999, 0.0, '17:15',\n",
       "        Timestamp('2018-12-16 00:00:00')],\n",
       "       [66.956, 0.0, '17:00', Timestamp('2018-12-16 00:00:00')],\n",
       "       [66.92, 0.0, '16:45', Timestamp('2018-12-16 00:00:00')],\n",
       "       [66.866, 0.0, '16:30', Timestamp('2018-12-16 00:00:00')],\n",
       "       [66.848, 0.0, '16:15', Timestamp('2018-12-16 00:00:00')],\n",
       "       [66.848, 0.0, '16:00', Timestamp('2018-12-16 00:00:00')],\n",
       "       [66.848, 0.0, '15:45', Timestamp('2018-12-16 00:00:00')],\n",
       "       [66.866, 0.0, '15:30', Timestamp('2018-12-16 00:00:00')],\n",
       "       [66.848, 0.0, '15:15', Timestamp('2018-12-16 00:00:00')],\n",
       "       [66.866, 0.0, '15:00', Timestamp('2018-12-16 00:00:00')],\n",
       "       [66.884, 0.0, '14:45', Timestamp('2018-12-16 00:00:00')],\n",
       "       [66.902, 0.0, '14:30', Timestamp('2018-12-16 00:00:00')],\n",
       "       [66.92, 0.0, '14:15', Timestamp('2018-12-16 00:00:00')],\n",
       "       [66.938, 0.0, '14:00', Timestamp('2018-12-16 00:00:00')],\n",
       "       [66.956, 0.0, '13:45', Timestamp('2018-12-16 00:00:00')],\n",
       "       [66.938, 0.0, '13:30', Timestamp('2018-12-16 00:00:00')],\n",
       "       [66.956, 0.0, '13:15', Timestamp('2018-12-16 00:00:00')],\n",
       "       [66.992, 0.0, '13:00', Timestamp('2018-12-16 00:00:00')],\n",
       "       [67.00999999999999, 0.0, '12:45',\n",
       "        Timestamp('2018-12-16 00:00:00')],\n",
       "       [67.04599999999999, 0.0, '12:30',\n",
       "        Timestamp('2018-12-16 00:00:00')],\n",
       "       [67.1, 0.0, '12:15', Timestamp('2018-12-16 00:00:00')],\n",
       "       [67.04599999999999, 0.0, '12:00',\n",
       "        Timestamp('2018-12-16 00:00:00')],\n",
       "       [66.992, 0.0, '11:45', Timestamp('2018-12-16 00:00:00')],\n",
       "       [66.92, 0.0, '11:30', Timestamp('2018-12-16 00:00:00')],\n",
       "       [66.794, 0.0, '11:15', Timestamp('2018-12-16 00:00:00')],\n",
       "       [66.74000000000001, 0.0, '11:00',\n",
       "        Timestamp('2018-12-16 00:00:00')],\n",
       "       [66.65, 0.0, '10:45', Timestamp('2018-12-16 00:00:00')],\n",
       "       [66.632, 0.0, '10:30', Timestamp('2018-12-16 00:00:00')],\n",
       "       [66.632, 0.0, '10:15', Timestamp('2018-12-16 00:00:00')],\n",
       "       [66.578, 0.0, '10:00', Timestamp('2018-12-16 00:00:00')],\n",
       "       [66.47, 0.0, '09:45', Timestamp('2018-12-16 00:00:00')],\n",
       "       [66.362, 0.0, '09:30', Timestamp('2018-12-16 00:00:00')],\n",
       "       [66.28999999999999, 0.0, '09:15',\n",
       "        Timestamp('2018-12-16 00:00:00')],\n",
       "       [66.28999999999999, 0.0, '09:00',\n",
       "        Timestamp('2018-12-16 00:00:00')],\n",
       "       [66.254, 0.0, '08:45', Timestamp('2018-12-16 00:00:00')],\n",
       "       [66.27199999999999, 0.0, '08:30',\n",
       "        Timestamp('2018-12-16 00:00:00')],\n",
       "       [66.27199999999999, 0.0, '08:15',\n",
       "        Timestamp('2018-12-16 00:00:00')],\n",
       "       [66.27199999999999, 0.0, '08:00',\n",
       "        Timestamp('2018-12-16 00:00:00')],\n",
       "       [66.28999999999999, 0.0, '07:45',\n",
       "        Timestamp('2018-12-16 00:00:00')],\n",
       "       [66.28999999999999, 0.0, '07:30',\n",
       "        Timestamp('2018-12-16 00:00:00')],\n",
       "       [66.28999999999999, 0.0, '07:15',\n",
       "        Timestamp('2018-12-16 00:00:00')],\n",
       "       [66.326, 0.0, '07:00', Timestamp('2018-12-16 00:00:00')],\n",
       "       [66.30799999999999, 0.0, '06:45',\n",
       "        Timestamp('2018-12-16 00:00:00')],\n",
       "       [66.344, 0.0, '06:30', Timestamp('2018-12-16 00:00:00')],\n",
       "       [66.398, 0.0, '06:15', Timestamp('2018-12-16 00:00:00')],\n",
       "       [66.398, 0.0, '06:00', Timestamp('2018-12-16 00:00:00')],\n",
       "       [66.434, 0.0, '05:45', Timestamp('2018-12-16 00:00:00')],\n",
       "       [66.434, 0.0, '05:30', Timestamp('2018-12-16 00:00:00')],\n",
       "       [66.452, 0.0, '05:15', Timestamp('2018-12-16 00:00:00')],\n",
       "       [66.488, 0.0, '05:00', Timestamp('2018-12-16 00:00:00')],\n",
       "       [66.506, 0.0, '04:45', Timestamp('2018-12-16 00:00:00')],\n",
       "       [66.542, 0.0, '04:30', Timestamp('2018-12-16 00:00:00')],\n",
       "       [66.578, 0.0, '04:15', Timestamp('2018-12-16 00:00:00')],\n",
       "       [66.614, 0.0, '04:00', Timestamp('2018-12-16 00:00:00')],\n",
       "       [66.65, 0.0, '03:45', Timestamp('2018-12-16 00:00:00')],\n",
       "       [66.70400000000001, 0.0, '03:30',\n",
       "        Timestamp('2018-12-16 00:00:00')],\n",
       "       [66.758, 0.0, '03:15', Timestamp('2018-12-16 00:00:00')],\n",
       "       [66.812, 0.0, '03:00', Timestamp('2018-12-16 00:00:00')],\n",
       "       [66.848, 0.0, '02:45', Timestamp('2018-12-16 00:00:00')],\n",
       "       [66.902, 0.0, '02:30', Timestamp('2018-12-16 00:00:00')],\n",
       "       [66.938, 0.0, '02:15', Timestamp('2018-12-16 00:00:00')],\n",
       "       [66.974, 0.0, '02:00', Timestamp('2018-12-16 00:00:00')],\n",
       "       [67.028, 0.0, '01:45', Timestamp('2018-12-16 00:00:00')],\n",
       "       [67.082, 0.0, '01:30', Timestamp('2018-12-16 00:00:00')],\n",
       "       [67.136, 0.0, '01:15', Timestamp('2018-12-16 00:00:00')],\n",
       "       [67.172, 0.0, '01:00', Timestamp('2018-12-16 00:00:00')],\n",
       "       [67.226, 0.0, '00:45', Timestamp('2018-12-16 00:00:00')],\n",
       "       [67.28, 0.0, '00:30', Timestamp('2018-12-16 00:00:00')],\n",
       "       [67.316, 0.0, '00:15', Timestamp('2018-12-16 00:00:00')],\n",
       "       [67.37, 0.0, '00:00', Timestamp('2018-12-16 00:00:00')]],\n",
       "      dtype=object)"
      ]
     },
     "execution_count": 15,
     "metadata": {},
     "output_type": "execute_result"
    }
   ],
   "source": [
    "# initializes all values for that day\n",
    "Day = data[date].values\n",
    "Day"
   ]
  },
  {
   "cell_type": "code",
   "execution_count": 16,
   "metadata": {},
   "outputs": [
    {
     "data": {
      "text/plain": [
       "66.254"
      ]
     },
     "execution_count": 16,
     "metadata": {},
     "output_type": "execute_result"
    }
   ],
   "source": [
    "# minimum temp value for given day\n",
    "Tempmin = (np.min(Day[:,0]))\n",
    "Tempmin"
   ]
  },
  {
   "cell_type": "code",
   "execution_count": 17,
   "metadata": {},
   "outputs": [
    {
     "data": {
      "text/plain": [
       "67.37"
      ]
     },
     "execution_count": 17,
     "metadata": {},
     "output_type": "execute_result"
    }
   ],
   "source": [
    "# maximum temp value for given day\n",
    "Tempmax = (np.max(Day[:,0], axis=0))\n",
    "Tempmax"
   ]
  },
  {
   "cell_type": "code",
   "execution_count": 18,
   "metadata": {},
   "outputs": [
    {
     "data": {
      "text/plain": [
       "66.81612500000001"
      ]
     },
     "execution_count": 18,
     "metadata": {},
     "output_type": "execute_result"
    }
   ],
   "source": [
    "# average temp value for given day\n",
    "Tempmean = (np.mean(Day[:,0], axis=0))\n",
    "Tempmean"
   ]
  },
  {
   "cell_type": "code",
   "execution_count": 19,
   "metadata": {},
   "outputs": [],
   "source": [
    "newVar = [Day[:,0] , Day[:,2]]\n",
    "a = np.array(newVar)[np.newaxis]"
   ]
  },
  {
   "cell_type": "code",
   "execution_count": 20,
   "metadata": {},
   "outputs": [
    {
     "data": {
      "text/plain": [
       "P1        0\n",
       "P2      269\n",
       "Time      0\n",
       "Date    269\n",
       "dtype: int64"
      ]
     },
     "execution_count": 20,
     "metadata": {},
     "output_type": "execute_result"
    }
   ],
   "source": [
    "# Counts number of low temps within data set\n",
    "NumLowTemps = data[data < MinTemp].count()\n",
    "NumLowTemps"
   ]
  },
  {
   "cell_type": "code",
   "execution_count": 21,
   "metadata": {},
   "outputs": [
    {
     "data": {
      "text/plain": [
       "P1        0\n",
       "P2        0\n",
       "Time    269\n",
       "Date    269\n",
       "dtype: int64"
      ]
     },
     "execution_count": 21,
     "metadata": {},
     "output_type": "execute_result"
    }
   ],
   "source": [
    "# Counts number of high temps within data set\n",
    "NumHighTemps = data[data > 100].count()\n",
    "NumHighTemps"
   ]
  },
  {
   "cell_type": "code",
   "execution_count": null,
   "metadata": {},
   "outputs": [],
   "source": []
  },
  {
   "cell_type": "code",
   "execution_count": 22,
   "metadata": {},
   "outputs": [
    {
     "data": {
      "text/html": [
       "<div>\n",
       "<style scoped>\n",
       "    .dataframe tbody tr th:only-of-type {\n",
       "        vertical-align: middle;\n",
       "    }\n",
       "\n",
       "    .dataframe tbody tr th {\n",
       "        vertical-align: top;\n",
       "    }\n",
       "\n",
       "    .dataframe thead th {\n",
       "        text-align: right;\n",
       "    }\n",
       "</style>\n",
       "<table border=\"1\" class=\"dataframe\">\n",
       "  <thead>\n",
       "    <tr style=\"text-align: right;\">\n",
       "      <th></th>\n",
       "      <th></th>\n",
       "      <th>P2</th>\n",
       "      <th>Time</th>\n",
       "    </tr>\n",
       "    <tr>\n",
       "      <th>Date</th>\n",
       "      <th>P1</th>\n",
       "      <th></th>\n",
       "      <th></th>\n",
       "    </tr>\n",
       "  </thead>\n",
       "  <tbody>\n",
       "    <tr>\n",
       "      <th rowspan=\"29\" valign=\"top\">2018-12-17</th>\n",
       "      <th>71.672</th>\n",
       "      <td>0.0</td>\n",
       "      <td>10:00</td>\n",
       "    </tr>\n",
       "    <tr>\n",
       "      <th>71.636</th>\n",
       "      <td>0.0</td>\n",
       "      <td>09:45</td>\n",
       "    </tr>\n",
       "    <tr>\n",
       "      <th>71.690</th>\n",
       "      <td>0.0</td>\n",
       "      <td>09:30</td>\n",
       "    </tr>\n",
       "    <tr>\n",
       "      <th>71.582</th>\n",
       "      <td>0.0</td>\n",
       "      <td>09:15</td>\n",
       "    </tr>\n",
       "    <tr>\n",
       "      <th>71.492</th>\n",
       "      <td>0.0</td>\n",
       "      <td>09:00</td>\n",
       "    </tr>\n",
       "    <tr>\n",
       "      <th>71.384</th>\n",
       "      <td>0.0</td>\n",
       "      <td>08:45</td>\n",
       "    </tr>\n",
       "    <tr>\n",
       "      <th>71.240</th>\n",
       "      <td>0.0</td>\n",
       "      <td>08:30</td>\n",
       "    </tr>\n",
       "    <tr>\n",
       "      <th>71.132</th>\n",
       "      <td>0.0</td>\n",
       "      <td>08:15</td>\n",
       "    </tr>\n",
       "    <tr>\n",
       "      <th>70.952</th>\n",
       "      <td>0.0</td>\n",
       "      <td>08:00</td>\n",
       "    </tr>\n",
       "    <tr>\n",
       "      <th>70.646</th>\n",
       "      <td>0.0</td>\n",
       "      <td>07:45</td>\n",
       "    </tr>\n",
       "    <tr>\n",
       "      <th>70.286</th>\n",
       "      <td>0.0</td>\n",
       "      <td>07:30</td>\n",
       "    </tr>\n",
       "    <tr>\n",
       "      <th>69.854</th>\n",
       "      <td>0.0</td>\n",
       "      <td>07:15</td>\n",
       "    </tr>\n",
       "    <tr>\n",
       "      <th>69.458</th>\n",
       "      <td>0.0</td>\n",
       "      <td>07:00</td>\n",
       "    </tr>\n",
       "    <tr>\n",
       "      <th>69.044</th>\n",
       "      <td>0.0</td>\n",
       "      <td>06:45</td>\n",
       "    </tr>\n",
       "    <tr>\n",
       "      <th>68.486</th>\n",
       "      <td>0.0</td>\n",
       "      <td>06:30</td>\n",
       "    </tr>\n",
       "    <tr>\n",
       "      <th>67.568</th>\n",
       "      <td>0.0</td>\n",
       "      <td>06:15</td>\n",
       "    </tr>\n",
       "    <tr>\n",
       "      <th>66.434</th>\n",
       "      <td>0.0</td>\n",
       "      <td>02:00</td>\n",
       "    </tr>\n",
       "    <tr>\n",
       "      <th>66.326</th>\n",
       "      <td>0.0</td>\n",
       "      <td>05:45</td>\n",
       "    </tr>\n",
       "    <tr>\n",
       "      <th>66.362</th>\n",
       "      <td>0.0</td>\n",
       "      <td>04:00</td>\n",
       "    </tr>\n",
       "    <tr>\n",
       "      <th>66.380</th>\n",
       "      <td>0.0</td>\n",
       "      <td>02:45</td>\n",
       "    </tr>\n",
       "    <tr>\n",
       "      <th>66.344</th>\n",
       "      <td>0.0</td>\n",
       "      <td>03:30</td>\n",
       "    </tr>\n",
       "    <tr>\n",
       "      <th>66.398</th>\n",
       "      <td>0.0</td>\n",
       "      <td>02:30</td>\n",
       "    </tr>\n",
       "    <tr>\n",
       "      <th>66.416</th>\n",
       "      <td>0.0</td>\n",
       "      <td>02:15</td>\n",
       "    </tr>\n",
       "    <tr>\n",
       "      <th>66.470</th>\n",
       "      <td>0.0</td>\n",
       "      <td>01:30</td>\n",
       "    </tr>\n",
       "    <tr>\n",
       "      <th>66.506</th>\n",
       "      <td>0.0</td>\n",
       "      <td>01:15</td>\n",
       "    </tr>\n",
       "    <tr>\n",
       "      <th>66.524</th>\n",
       "      <td>0.0</td>\n",
       "      <td>01:00</td>\n",
       "    </tr>\n",
       "    <tr>\n",
       "      <th>66.542</th>\n",
       "      <td>0.0</td>\n",
       "      <td>00:45</td>\n",
       "    </tr>\n",
       "    <tr>\n",
       "      <th>66.560</th>\n",
       "      <td>0.0</td>\n",
       "      <td>00:30</td>\n",
       "    </tr>\n",
       "    <tr>\n",
       "      <th>66.578</th>\n",
       "      <td>0.0</td>\n",
       "      <td>00:00</td>\n",
       "    </tr>\n",
       "    <tr>\n",
       "      <th>2018-12-16</th>\n",
       "      <th>66.614</th>\n",
       "      <td>0.0</td>\n",
       "      <td>04:00</td>\n",
       "    </tr>\n",
       "    <tr>\n",
       "      <th>...</th>\n",
       "      <th>...</th>\n",
       "      <td>...</td>\n",
       "      <td>...</td>\n",
       "    </tr>\n",
       "    <tr>\n",
       "      <th rowspan=\"30\" valign=\"top\">2018-12-14</th>\n",
       "      <th>71.348</th>\n",
       "      <td>0.0</td>\n",
       "      <td>22:15</td>\n",
       "    </tr>\n",
       "    <tr>\n",
       "      <th>71.420</th>\n",
       "      <td>0.0</td>\n",
       "      <td>22:00</td>\n",
       "    </tr>\n",
       "    <tr>\n",
       "      <th>71.438</th>\n",
       "      <td>0.0</td>\n",
       "      <td>21:45</td>\n",
       "    </tr>\n",
       "    <tr>\n",
       "      <th>71.456</th>\n",
       "      <td>0.0</td>\n",
       "      <td>21:30</td>\n",
       "    </tr>\n",
       "    <tr>\n",
       "      <th>71.492</th>\n",
       "      <td>0.0</td>\n",
       "      <td>21:15</td>\n",
       "    </tr>\n",
       "    <tr>\n",
       "      <th>71.546</th>\n",
       "      <td>0.0</td>\n",
       "      <td>21:00</td>\n",
       "    </tr>\n",
       "    <tr>\n",
       "      <th>71.510</th>\n",
       "      <td>0.0</td>\n",
       "      <td>20:45</td>\n",
       "    </tr>\n",
       "    <tr>\n",
       "      <th>71.564</th>\n",
       "      <td>0.0</td>\n",
       "      <td>20:30</td>\n",
       "    </tr>\n",
       "    <tr>\n",
       "      <th>71.654</th>\n",
       "      <td>0.0</td>\n",
       "      <td>20:15</td>\n",
       "    </tr>\n",
       "    <tr>\n",
       "      <th>71.744</th>\n",
       "      <td>0.0</td>\n",
       "      <td>20:00</td>\n",
       "    </tr>\n",
       "    <tr>\n",
       "      <th>71.816</th>\n",
       "      <td>0.0</td>\n",
       "      <td>19:45</td>\n",
       "    </tr>\n",
       "    <tr>\n",
       "      <th>71.870</th>\n",
       "      <td>0.0</td>\n",
       "      <td>19:30</td>\n",
       "    </tr>\n",
       "    <tr>\n",
       "      <th>71.942</th>\n",
       "      <td>0.0</td>\n",
       "      <td>19:15</td>\n",
       "    </tr>\n",
       "    <tr>\n",
       "      <th>72.050</th>\n",
       "      <td>0.0</td>\n",
       "      <td>19:00</td>\n",
       "    </tr>\n",
       "    <tr>\n",
       "      <th>72.158</th>\n",
       "      <td>0.0</td>\n",
       "      <td>18:45</td>\n",
       "    </tr>\n",
       "    <tr>\n",
       "      <th>72.266</th>\n",
       "      <td>0.0</td>\n",
       "      <td>18:30</td>\n",
       "    </tr>\n",
       "    <tr>\n",
       "      <th>72.374</th>\n",
       "      <td>0.0</td>\n",
       "      <td>18:15</td>\n",
       "    </tr>\n",
       "    <tr>\n",
       "      <th>72.518</th>\n",
       "      <td>0.0</td>\n",
       "      <td>18:00</td>\n",
       "    </tr>\n",
       "    <tr>\n",
       "      <th>72.716</th>\n",
       "      <td>0.0</td>\n",
       "      <td>17:45</td>\n",
       "    </tr>\n",
       "    <tr>\n",
       "      <th>72.842</th>\n",
       "      <td>0.0</td>\n",
       "      <td>17:30</td>\n",
       "    </tr>\n",
       "    <tr>\n",
       "      <th>72.860</th>\n",
       "      <td>0.0</td>\n",
       "      <td>17:15</td>\n",
       "    </tr>\n",
       "    <tr>\n",
       "      <th>72.896</th>\n",
       "      <td>0.0</td>\n",
       "      <td>17:00</td>\n",
       "    </tr>\n",
       "    <tr>\n",
       "      <th>72.950</th>\n",
       "      <td>0.0</td>\n",
       "      <td>16:45</td>\n",
       "    </tr>\n",
       "    <tr>\n",
       "      <th>73.022</th>\n",
       "      <td>0.0</td>\n",
       "      <td>16:30</td>\n",
       "    </tr>\n",
       "    <tr>\n",
       "      <th>73.076</th>\n",
       "      <td>0.0</td>\n",
       "      <td>16:15</td>\n",
       "    </tr>\n",
       "    <tr>\n",
       "      <th>73.184</th>\n",
       "      <td>0.0</td>\n",
       "      <td>16:00</td>\n",
       "    </tr>\n",
       "    <tr>\n",
       "      <th>73.400</th>\n",
       "      <td>0.0</td>\n",
       "      <td>15:45</td>\n",
       "    </tr>\n",
       "    <tr>\n",
       "      <th>73.346</th>\n",
       "      <td>0.0</td>\n",
       "      <td>15:30</td>\n",
       "    </tr>\n",
       "    <tr>\n",
       "      <th>73.490</th>\n",
       "      <td>0.0</td>\n",
       "      <td>15:15</td>\n",
       "    </tr>\n",
       "    <tr>\n",
       "      <th>73.454</th>\n",
       "      <td>0.0</td>\n",
       "      <td>15:00</td>\n",
       "    </tr>\n",
       "  </tbody>\n",
       "</table>\n",
       "<p>198 rows × 2 columns</p>\n",
       "</div>"
      ],
      "text/plain": [
       "                    P2   Time\n",
       "Date       P1                \n",
       "2018-12-17 71.672  0.0  10:00\n",
       "           71.636  0.0  09:45\n",
       "           71.690  0.0  09:30\n",
       "           71.582  0.0  09:15\n",
       "           71.492  0.0  09:00\n",
       "           71.384  0.0  08:45\n",
       "           71.240  0.0  08:30\n",
       "           71.132  0.0  08:15\n",
       "           70.952  0.0  08:00\n",
       "           70.646  0.0  07:45\n",
       "           70.286  0.0  07:30\n",
       "           69.854  0.0  07:15\n",
       "           69.458  0.0  07:00\n",
       "           69.044  0.0  06:45\n",
       "           68.486  0.0  06:30\n",
       "           67.568  0.0  06:15\n",
       "           66.434  0.0  02:00\n",
       "           66.326  0.0  05:45\n",
       "           66.362  0.0  04:00\n",
       "           66.380  0.0  02:45\n",
       "           66.344  0.0  03:30\n",
       "           66.398  0.0  02:30\n",
       "           66.416  0.0  02:15\n",
       "           66.470  0.0  01:30\n",
       "           66.506  0.0  01:15\n",
       "           66.524  0.0  01:00\n",
       "           66.542  0.0  00:45\n",
       "           66.560  0.0  00:30\n",
       "           66.578  0.0  00:00\n",
       "2018-12-16 66.614  0.0  04:00\n",
       "...                ...    ...\n",
       "2018-12-14 71.348  0.0  22:15\n",
       "           71.420  0.0  22:00\n",
       "           71.438  0.0  21:45\n",
       "           71.456  0.0  21:30\n",
       "           71.492  0.0  21:15\n",
       "           71.546  0.0  21:00\n",
       "           71.510  0.0  20:45\n",
       "           71.564  0.0  20:30\n",
       "           71.654  0.0  20:15\n",
       "           71.744  0.0  20:00\n",
       "           71.816  0.0  19:45\n",
       "           71.870  0.0  19:30\n",
       "           71.942  0.0  19:15\n",
       "           72.050  0.0  19:00\n",
       "           72.158  0.0  18:45\n",
       "           72.266  0.0  18:30\n",
       "           72.374  0.0  18:15\n",
       "           72.518  0.0  18:00\n",
       "           72.716  0.0  17:45\n",
       "           72.842  0.0  17:30\n",
       "           72.860  0.0  17:15\n",
       "           72.896  0.0  17:00\n",
       "           72.950  0.0  16:45\n",
       "           73.022  0.0  16:30\n",
       "           73.076  0.0  16:15\n",
       "           73.184  0.0  16:00\n",
       "           73.400  0.0  15:45\n",
       "           73.346  0.0  15:30\n",
       "           73.490  0.0  15:15\n",
       "           73.454  0.0  15:00\n",
       "\n",
       "[198 rows x 2 columns]"
      ]
     },
     "execution_count": 22,
     "metadata": {},
     "output_type": "execute_result"
    }
   ],
   "source": [
    "# Groups temperatures by time and date. \n",
    "Grouped = data.groupby(['Date', 'P1'], sort=False)\n",
    "Grouped.last()"
   ]
  },
  {
   "cell_type": "code",
   "execution_count": 23,
   "metadata": {},
   "outputs": [
    {
     "data": {
      "image/png": "[encoded data removed]",
      "text/plain": [
       "<Figure size 432x288 with 1 Axes>"
      ]
     },
     "metadata": {
      "needs_background": "light"
     },
     "output_type": "display_data"
    },
    {
     "data": {
      "image/png": "[encoded data removed]",
      "text/plain": [
       "<Figure size 432x288 with 1 Axes>"
      ]
     },
     "metadata": {
      "needs_background": "light"
     },
     "output_type": "display_data"
    },
    {
     "data": {
      "image/png": "[encoded data removed]",
      "text/plain": [
       "<Figure size 432x288 with 1 Axes>"
      ]
     },
     "metadata": {
      "needs_background": "light"
     },
     "output_type": "display_data"
    },
    {
     "data": {
      "image/png": "[encoded data removed]",
      "text/plain": [
       "<Figure size 432x288 with 1 Axes>"
      ]
     },
     "metadata": {
      "needs_background": "light"
     },
     "output_type": "display_data"
    }
   ],
   "source": [
    "for title, group in data.groupby('Date'):\n",
    "    group.plot(x='Date', y='P1', title=title)"
   ]
  },
  {
   "cell_type": "code",
   "execution_count": 24,
   "metadata": {},
   "outputs": [
    {
     "data": {
      "text/plain": [
       "[       P1   P2   Time       Date\n",
       " 0  71.672  0.0  10:00 2018-12-17,        P1   P2   Time       Date\n",
       " 1  71.636  0.0  09:45 2018-12-17,       P1   P2   Time       Date\n",
       " 2  71.69  0.0  09:30 2018-12-17,        P1   P2   Time       Date\n",
       " 3  71.582  0.0  09:15 2018-12-17,        P1   P2   Time       Date\n",
       " 4  71.492  0.0  09:00 2018-12-17,        P1   P2   Time       Date\n",
       " 5  71.384  0.0  08:45 2018-12-17,       P1   P2   Time       Date\n",
       " 6  71.24  0.0  08:30 2018-12-17,        P1   P2   Time       Date\n",
       " 7  71.132  0.0  08:15 2018-12-17,        P1   P2   Time       Date\n",
       " 8  70.952  0.0  08:00 2018-12-17,        P1   P2   Time       Date\n",
       " 9  70.646  0.0  07:45 2018-12-17,         P1   P2   Time       Date\n",
       " 10  70.286  0.0  07:30 2018-12-17,         P1   P2   Time       Date\n",
       " 11  69.854  0.0  07:15 2018-12-17,         P1   P2   Time       Date\n",
       " 12  69.458  0.0  07:00 2018-12-17,         P1   P2   Time       Date\n",
       " 13  69.044  0.0  06:45 2018-12-17,         P1   P2   Time       Date\n",
       " 14  68.486  0.0  06:30 2018-12-17,         P1   P2   Time       Date\n",
       " 15  67.568  0.0  06:15 2018-12-17,         P1   P2   Time       Date\n",
       " 16  66.434  0.0  06:00 2018-12-17\n",
       " 32  66.434  0.0  02:00 2018-12-17,         P1   P2   Time       Date\n",
       " 17  66.326  0.0  05:45 2018-12-17,         P1   P2   Time       Date\n",
       " 18  66.362  0.0  05:30 2018-12-17\n",
       " 23  66.362  0.0  04:15 2018-12-17\n",
       " 24  66.362  0.0  04:00 2018-12-17,        P1   P2   Time       Date\n",
       " 19  66.38  0.0  05:15 2018-12-17\n",
       " 20  66.38  0.0  05:00 2018-12-17\n",
       " 21  66.38  0.0  04:45 2018-12-17\n",
       " 22  66.38  0.0  04:30 2018-12-17\n",
       " 27  66.38  0.0  03:15 2018-12-17\n",
       " 28  66.38  0.0  03:00 2018-12-17\n",
       " 29  66.38  0.0  02:45 2018-12-17,         P1   P2   Time       Date\n",
       " 25  66.344  0.0  03:45 2018-12-17\n",
       " 26  66.344  0.0  03:30 2018-12-17]"
      ]
     },
     "execution_count": 24,
     "metadata": {},
     "output_type": "execute_result"
    }
   ],
   "source": [
    "result = [g[1] for g in list(Grouped)[:21]]\n",
    "result"
   ]
  },
  {
   "cell_type": "code",
   "execution_count": 25,
   "metadata": {},
   "outputs": [
    {
     "data": {
      "text/plain": [
       "<pandas.core.groupby.groupby.DataFrameGroupBy object at 0x000000000E013390>"
      ]
     },
     "execution_count": 25,
     "metadata": {},
     "output_type": "execute_result"
    }
   ],
   "source": [
    "Grouped = data.groupby(['Date', 'P1'])\n",
    "Grouped.get_group((list(Grouped.groups)[0])).groupby(['P2','Time'])"
   ]
  },
  {
   "cell_type": "code",
   "execution_count": null,
   "metadata": {},
   "outputs": [],
   "source": [
    "# Something from internet \n",
    "# data.groupby(allColumns)[columnImInterestedInForStats].describe()\n",
    "\n",
    "# Someone's response\n",
    "\n",
    "# import pandas as pd\n",
    "# import numpy as np\n",
    "\n",
    "# df = pd.DataFrame([[1.1, 1.1, 1.1, 2.6, 2.5, 3.4,2.6,2.6,3.4,3.4,2.6,1.1,1.1,3.3], list('AAABBBBABCBDDD'), \\\n",
    "#                    ['1','3','3','2','4','2','5','3','6','3','5','1','1','1']]).T\n",
    "# df.columns = ['col1','col2','col3']\n",
    "# df['col1'] = df['col1'].astype(float)\n",
    "\n",
    "# df.groupby(['col2','col3'])['col1'].agg([np.mean,'count',np.max,np.min,np.median])"
   ]
  },
  {
   "cell_type": "code",
   "execution_count": 29,
   "metadata": {},
   "outputs": [
    {
     "ename": "DataError",
     "evalue": "No numeric types to aggregate",
     "output_type": "error",
     "traceback": [
      "\u001b[1;31m---------------------------------------------------------------------------\u001b[0m",
      "\u001b[1;31mDataError\u001b[0m                                 Traceback (most recent call last)",
      "\u001b[1;32m<ipython-input-29-077d9eb4bb8b>\u001b[0m in \u001b[0;36m<module>\u001b[1;34m()\u001b[0m\n\u001b[0;32m      3\u001b[0m \u001b[1;31m# data['Date'] = data['Date'].astype(float)\u001b[0m\u001b[1;33m\u001b[0m\u001b[1;33m\u001b[0m\u001b[0m\n\u001b[0;32m      4\u001b[0m \u001b[1;33m\u001b[0m\u001b[0m\n\u001b[1;32m----> 5\u001b[1;33m \u001b[0mdata\u001b[0m\u001b[1;33m.\u001b[0m\u001b[0mgroupby\u001b[0m\u001b[1;33m(\u001b[0m\u001b[1;33m[\u001b[0m\u001b[1;34m'P1'\u001b[0m \u001b[1;33m,\u001b[0m \u001b[1;34m'Date'\u001b[0m\u001b[1;33m]\u001b[0m\u001b[1;33m)\u001b[0m\u001b[1;33m[\u001b[0m\u001b[1;34m'Time'\u001b[0m\u001b[1;33m]\u001b[0m\u001b[1;33m.\u001b[0m\u001b[0magg\u001b[0m\u001b[1;33m(\u001b[0m\u001b[1;33m[\u001b[0m\u001b[0mnp\u001b[0m\u001b[1;33m.\u001b[0m\u001b[0mmean\u001b[0m\u001b[1;33m,\u001b[0m\u001b[1;34m'count'\u001b[0m\u001b[1;33m,\u001b[0m\u001b[0mnp\u001b[0m\u001b[1;33m.\u001b[0m\u001b[0mmax\u001b[0m\u001b[1;33m,\u001b[0m\u001b[0mnp\u001b[0m\u001b[1;33m.\u001b[0m\u001b[0mmin\u001b[0m\u001b[1;33m,\u001b[0m\u001b[0mnp\u001b[0m\u001b[1;33m.\u001b[0m\u001b[0mmedian\u001b[0m\u001b[1;33m]\u001b[0m\u001b[1;33m)\u001b[0m\u001b[1;33m\u001b[0m\u001b[0m\n\u001b[0m",
      "\u001b[1;32mC:\\ProgramData\\Anaconda2\\lib\\site-packages\\pandas\\core\\groupby\\groupby.py\u001b[0m in \u001b[0;36maggregate\u001b[1;34m(self, func_or_funcs, *args, **kwargs)\u001b[0m\n\u001b[0;32m   3483\u001b[0m             \u001b[1;31m# but not the class list / tuple itself.\u001b[0m\u001b[1;33m\u001b[0m\u001b[1;33m\u001b[0m\u001b[0m\n\u001b[0;32m   3484\u001b[0m             ret = self._aggregate_multiple_funcs(func_or_funcs,\n\u001b[1;32m-> 3485\u001b[1;33m                                                  (_level or 0) + 1)\n\u001b[0m\u001b[0;32m   3486\u001b[0m         \u001b[1;32melse\u001b[0m\u001b[1;33m:\u001b[0m\u001b[1;33m\u001b[0m\u001b[0m\n\u001b[0;32m   3487\u001b[0m             \u001b[0mcyfunc\u001b[0m \u001b[1;33m=\u001b[0m \u001b[0mself\u001b[0m\u001b[1;33m.\u001b[0m\u001b[0m_is_cython_func\u001b[0m\u001b[1;33m(\u001b[0m\u001b[0mfunc_or_funcs\u001b[0m\u001b[1;33m)\u001b[0m\u001b[1;33m\u001b[0m\u001b[0m\n",
      "\u001b[1;32mC:\\ProgramData\\Anaconda2\\lib\\site-packages\\pandas\\core\\groupby\\groupby.py\u001b[0m in \u001b[0;36m_aggregate_multiple_funcs\u001b[1;34m(self, arg, _level)\u001b[0m\n\u001b[0;32m   3556\u001b[0m                 \u001b[0mobj\u001b[0m\u001b[1;33m.\u001b[0m\u001b[0m_reset_cache\u001b[0m\u001b[1;33m(\u001b[0m\u001b[1;33m)\u001b[0m\u001b[1;33m\u001b[0m\u001b[0m\n\u001b[0;32m   3557\u001b[0m                 \u001b[0mobj\u001b[0m\u001b[1;33m.\u001b[0m\u001b[0m_selection\u001b[0m \u001b[1;33m=\u001b[0m \u001b[0mname\u001b[0m\u001b[1;33m\u001b[0m\u001b[0m\n\u001b[1;32m-> 3558\u001b[1;33m             \u001b[0mresults\u001b[0m\u001b[1;33m[\u001b[0m\u001b[0mname\u001b[0m\u001b[1;33m]\u001b[0m \u001b[1;33m=\u001b[0m \u001b[0mobj\u001b[0m\u001b[1;33m.\u001b[0m\u001b[0maggregate\u001b[0m\u001b[1;33m(\u001b[0m\u001b[0mfunc\u001b[0m\u001b[1;33m)\u001b[0m\u001b[1;33m\u001b[0m\u001b[0m\n\u001b[0m\u001b[0;32m   3559\u001b[0m \u001b[1;33m\u001b[0m\u001b[0m\n\u001b[0;32m   3560\u001b[0m         \u001b[1;32mif\u001b[0m \u001b[0many\u001b[0m\u001b[1;33m(\u001b[0m\u001b[0misinstance\u001b[0m\u001b[1;33m(\u001b[0m\u001b[0mx\u001b[0m\u001b[1;33m,\u001b[0m \u001b[0mDataFrame\u001b[0m\u001b[1;33m)\u001b[0m \u001b[1;32mfor\u001b[0m \u001b[0mx\u001b[0m \u001b[1;32min\u001b[0m \u001b[0mcompat\u001b[0m\u001b[1;33m.\u001b[0m\u001b[0mitervalues\u001b[0m\u001b[1;33m(\u001b[0m\u001b[0mresults\u001b[0m\u001b[1;33m)\u001b[0m\u001b[1;33m)\u001b[0m\u001b[1;33m:\u001b[0m\u001b[1;33m\u001b[0m\u001b[0m\n",
      "\u001b[1;32mC:\\ProgramData\\Anaconda2\\lib\\site-packages\\pandas\\core\\groupby\\groupby.py\u001b[0m in \u001b[0;36maggregate\u001b[1;34m(self, func_or_funcs, *args, **kwargs)\u001b[0m\n\u001b[0;32m   3487\u001b[0m             \u001b[0mcyfunc\u001b[0m \u001b[1;33m=\u001b[0m \u001b[0mself\u001b[0m\u001b[1;33m.\u001b[0m\u001b[0m_is_cython_func\u001b[0m\u001b[1;33m(\u001b[0m\u001b[0mfunc_or_funcs\u001b[0m\u001b[1;33m)\u001b[0m\u001b[1;33m\u001b[0m\u001b[0m\n\u001b[0;32m   3488\u001b[0m             \u001b[1;32mif\u001b[0m \u001b[0mcyfunc\u001b[0m \u001b[1;32mand\u001b[0m \u001b[1;32mnot\u001b[0m \u001b[0margs\u001b[0m \u001b[1;32mand\u001b[0m \u001b[1;32mnot\u001b[0m \u001b[0mkwargs\u001b[0m\u001b[1;33m:\u001b[0m\u001b[1;33m\u001b[0m\u001b[0m\n\u001b[1;32m-> 3489\u001b[1;33m                 \u001b[1;32mreturn\u001b[0m \u001b[0mgetattr\u001b[0m\u001b[1;33m(\u001b[0m\u001b[0mself\u001b[0m\u001b[1;33m,\u001b[0m \u001b[0mcyfunc\u001b[0m\u001b[1;33m)\u001b[0m\u001b[1;33m(\u001b[0m\u001b[1;33m)\u001b[0m\u001b[1;33m\u001b[0m\u001b[0m\n\u001b[0m\u001b[0;32m   3490\u001b[0m \u001b[1;33m\u001b[0m\u001b[0m\n\u001b[0;32m   3491\u001b[0m             \u001b[1;32mif\u001b[0m \u001b[0mself\u001b[0m\u001b[1;33m.\u001b[0m\u001b[0mgrouper\u001b[0m\u001b[1;33m.\u001b[0m\u001b[0mnkeys\u001b[0m \u001b[1;33m>\u001b[0m \u001b[1;36m1\u001b[0m\u001b[1;33m:\u001b[0m\u001b[1;33m\u001b[0m\u001b[0m\n",
      "\u001b[1;32mC:\\ProgramData\\Anaconda2\\lib\\site-packages\\pandas\\core\\groupby\\groupby.py\u001b[0m in \u001b[0;36mmean\u001b[1;34m(self, *args, **kwargs)\u001b[0m\n\u001b[0;32m   1304\u001b[0m         \u001b[0mnv\u001b[0m\u001b[1;33m.\u001b[0m\u001b[0mvalidate_groupby_func\u001b[0m\u001b[1;33m(\u001b[0m\u001b[1;34m'mean'\u001b[0m\u001b[1;33m,\u001b[0m \u001b[0margs\u001b[0m\u001b[1;33m,\u001b[0m \u001b[0mkwargs\u001b[0m\u001b[1;33m,\u001b[0m \u001b[1;33m[\u001b[0m\u001b[1;34m'numeric_only'\u001b[0m\u001b[1;33m]\u001b[0m\u001b[1;33m)\u001b[0m\u001b[1;33m\u001b[0m\u001b[0m\n\u001b[0;32m   1305\u001b[0m         \u001b[1;32mtry\u001b[0m\u001b[1;33m:\u001b[0m\u001b[1;33m\u001b[0m\u001b[0m\n\u001b[1;32m-> 1306\u001b[1;33m             \u001b[1;32mreturn\u001b[0m \u001b[0mself\u001b[0m\u001b[1;33m.\u001b[0m\u001b[0m_cython_agg_general\u001b[0m\u001b[1;33m(\u001b[0m\u001b[1;34m'mean'\u001b[0m\u001b[1;33m,\u001b[0m \u001b[1;33m**\u001b[0m\u001b[0mkwargs\u001b[0m\u001b[1;33m)\u001b[0m\u001b[1;33m\u001b[0m\u001b[0m\n\u001b[0m\u001b[0;32m   1307\u001b[0m         \u001b[1;32mexcept\u001b[0m \u001b[0mGroupByError\u001b[0m\u001b[1;33m:\u001b[0m\u001b[1;33m\u001b[0m\u001b[0m\n\u001b[0;32m   1308\u001b[0m             \u001b[1;32mraise\u001b[0m\u001b[1;33m\u001b[0m\u001b[0m\n",
      "\u001b[1;32mC:\\ProgramData\\Anaconda2\\lib\\site-packages\\pandas\\core\\groupby\\groupby.py\u001b[0m in \u001b[0;36m_cython_agg_general\u001b[1;34m(self, how, alt, numeric_only, min_count)\u001b[0m\n\u001b[0;32m   1054\u001b[0m \u001b[1;33m\u001b[0m\u001b[0m\n\u001b[0;32m   1055\u001b[0m         \u001b[1;32mif\u001b[0m \u001b[0mlen\u001b[0m\u001b[1;33m(\u001b[0m\u001b[0moutput\u001b[0m\u001b[1;33m)\u001b[0m \u001b[1;33m==\u001b[0m \u001b[1;36m0\u001b[0m\u001b[1;33m:\u001b[0m\u001b[1;33m\u001b[0m\u001b[0m\n\u001b[1;32m-> 1056\u001b[1;33m             \u001b[1;32mraise\u001b[0m \u001b[0mDataError\u001b[0m\u001b[1;33m(\u001b[0m\u001b[1;34m'No numeric types to aggregate'\u001b[0m\u001b[1;33m)\u001b[0m\u001b[1;33m\u001b[0m\u001b[0m\n\u001b[0m\u001b[0;32m   1057\u001b[0m \u001b[1;33m\u001b[0m\u001b[0m\n\u001b[0;32m   1058\u001b[0m         \u001b[1;32mreturn\u001b[0m \u001b[0mself\u001b[0m\u001b[1;33m.\u001b[0m\u001b[0m_wrap_aggregated_output\u001b[0m\u001b[1;33m(\u001b[0m\u001b[0moutput\u001b[0m\u001b[1;33m,\u001b[0m \u001b[0mnames\u001b[0m\u001b[1;33m)\u001b[0m\u001b[1;33m\u001b[0m\u001b[0m\n",
      "\u001b[1;31mDataError\u001b[0m: No numeric types to aggregate"
     ]
    }
   ],
   "source": [
    "data['P1'] = data['P1'].astype(float)\n",
    "#data['Time'] = data['Time'].astype(float)\n",
    "# data['Date'] = data['Date'].astype(float)\n",
    "\n",
    "data.groupby(['P1' , 'Date'])['Time'].agg([np.mean,'count',np.max,np.min,np.median])"
   ]
  }
 ],
 "metadata": {
  "kernelspec": {
   "display_name": "Python 2",
   "language": "python",
   "name": "python2"
  },
  "language_info": {
   "codemirror_mode": {
    "name": "ipython",
    "version": 2
   },
   "file_extension": ".py",
   "mimetype": "text/x-python",
   "name": "python",
   "nbconvert_exporter": "python",
   "pygments_lexer": "ipython2",
   "version": "2.7.15"
  }
 },
 "nbformat": 4,
 "nbformat_minor": 2
}
