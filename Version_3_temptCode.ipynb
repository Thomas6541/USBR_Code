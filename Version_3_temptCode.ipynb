{
 "cells": [
  {
   "cell_type": "code",
   "execution_count": 72,
   "metadata": {},
   "outputs": [],
   "source": [
    "import pandas as pd\n",
    "import csv\n",
    "import matplotlib.pyplot as plt\n",
    "import numpy as np\n",
    "import pylab"
   ]
  },
  {
   "cell_type": "code",
   "execution_count": 2,
   "metadata": {},
   "outputs": [],
   "source": [
    "# Imports the data 'csv' file\n",
    "\n",
    "# Use this if there was no alarm event in the temp\n",
    "df = pd.read_csv('B582127C.csv', skiprows=range(0,4), date_parser = pd.to_datetime)\n",
    "# use this if there was an alarm event in temp readings\n",
    "# df = pd.read_csv('B582127C.csv', skiprows=range(0,9), date_parser = pd.to_datetime)"
   ]
  },
  {
   "cell_type": "code",
   "execution_count": 3,
   "metadata": {},
   "outputs": [],
   "source": [
    "# This code replaces Celsius to Fahrenheit in column 1. \n",
    "# If you need to change to any other column, then just change red 'P1' to new column name\n",
    "def f(x):\n",
    "    x = (x * 1.8) + 32\n",
    "    return float(x)\n",
    "\n",
    "df['P1'] = df['P1'].apply(f)"
   ]
  },
  {
   "cell_type": "code",
   "execution_count": 4,
   "metadata": {},
   "outputs": [],
   "source": [
    "g = df.groupby(['Date'])"
   ]
  },
  {
   "cell_type": "code",
   "execution_count": 5,
   "metadata": {},
   "outputs": [],
   "source": [
    "def avg(g, N=4):\n",
    "    cum = np.cumsum(g,0)\n",
    "    result = cum[N-1::N]/float(N)\n",
    "    result[1:] = result[1:] - result[:-1]\n",
    "\n",
    "    remainder = g.shape[0] % N\n",
    "    if remainder != 0:\n",
    "        if remainder < g.shape[0]:\n",
    "            lastAvg = (cum[-1]-cum[-1-remainder])/float(remainder)\n",
    "        else:\n",
    "            lastAvg = cum[-1]/float(remainder)\n",
    "        result = np.vstack([result, lastAvg])\n",
    "    return result"
   ]
  },
  {
   "cell_type": "code",
   "execution_count": 14,
   "metadata": {},
   "outputs": [
    {
     "ename": "AttributeError",
     "evalue": "Can only use .dt accessor with datetimelike values",
     "output_type": "error",
     "traceback": [
      "\u001b[1;31m\u001b[0m",
      "\u001b[1;31mAttributeError\u001b[0mTraceback (most recent call last)",
      "\u001b[1;32m<ipython-input-14-20f715937a8c>\u001b[0m in \u001b[0;36m<module>\u001b[1;34m()\u001b[0m\n\u001b[1;32m----> 1\u001b[1;33m \u001b[0mdf\u001b[0m\u001b[1;33m.\u001b[0m\u001b[0mgroupby\u001b[0m\u001b[1;33m(\u001b[0m\u001b[1;33m[\u001b[0m\u001b[0mdf\u001b[0m\u001b[1;33m[\u001b[0m\u001b[1;34m\"Date\"\u001b[0m\u001b[1;33m]\u001b[0m\u001b[1;33m.\u001b[0m\u001b[0mdt\u001b[0m\u001b[1;33m.\u001b[0m\u001b[0mmonth\u001b[0m\u001b[1;33m,\u001b[0m \u001b[0mdf\u001b[0m\u001b[1;33m[\u001b[0m\u001b[1;34m\"Time\"\u001b[0m\u001b[1;33m]\u001b[0m\u001b[1;33m.\u001b[0m\u001b[0mdt\u001b[0m\u001b[1;33m.\u001b[0m\u001b[0mhour\u001b[0m\u001b[1;33m]\u001b[0m\u001b[1;33m)\u001b[0m\u001b[1;33m.\u001b[0m\u001b[0mmean\u001b[0m\u001b[1;33m(\u001b[0m\u001b[1;33m)\u001b[0m\u001b[1;33m\u001b[0m\u001b[0m\n\u001b[0m",
      "\u001b[1;32mC:\\ProgramData\\Anaconda2\\lib\\site-packages\\pandas\\core\\generic.py\u001b[0m in \u001b[0;36m__getattr__\u001b[1;34m(self, name)\u001b[0m\n\u001b[0;32m   4370\u001b[0m         if (name in self._internal_names_set or name in self._metadata or\n\u001b[0;32m   4371\u001b[0m                 name in self._accessors):\n\u001b[1;32m-> 4372\u001b[1;33m             \u001b[1;32mreturn\u001b[0m \u001b[0mobject\u001b[0m\u001b[1;33m.\u001b[0m\u001b[0m__getattribute__\u001b[0m\u001b[1;33m(\u001b[0m\u001b[0mself\u001b[0m\u001b[1;33m,\u001b[0m \u001b[0mname\u001b[0m\u001b[1;33m)\u001b[0m\u001b[1;33m\u001b[0m\u001b[0m\n\u001b[0m\u001b[0;32m   4373\u001b[0m         \u001b[1;32melse\u001b[0m\u001b[1;33m:\u001b[0m\u001b[1;33m\u001b[0m\u001b[0m\n\u001b[0;32m   4374\u001b[0m             \u001b[1;32mif\u001b[0m \u001b[0mself\u001b[0m\u001b[1;33m.\u001b[0m\u001b[0m_info_axis\u001b[0m\u001b[1;33m.\u001b[0m\u001b[0m_can_hold_identifiers_and_holds_name\u001b[0m\u001b[1;33m(\u001b[0m\u001b[0mname\u001b[0m\u001b[1;33m)\u001b[0m\u001b[1;33m:\u001b[0m\u001b[1;33m\u001b[0m\u001b[0m\n",
      "\u001b[1;32mC:\\ProgramData\\Anaconda2\\lib\\site-packages\\pandas\\core\\accessor.py\u001b[0m in \u001b[0;36m__get__\u001b[1;34m(self, obj, cls)\u001b[0m\n\u001b[0;32m    131\u001b[0m             \u001b[1;31m# we're accessing the attribute of the class, i.e., Dataset.geo\u001b[0m\u001b[1;33m\u001b[0m\u001b[1;33m\u001b[0m\u001b[0m\n\u001b[0;32m    132\u001b[0m             \u001b[1;32mreturn\u001b[0m \u001b[0mself\u001b[0m\u001b[1;33m.\u001b[0m\u001b[0m_accessor\u001b[0m\u001b[1;33m\u001b[0m\u001b[0m\n\u001b[1;32m--> 133\u001b[1;33m         \u001b[0maccessor_obj\u001b[0m \u001b[1;33m=\u001b[0m \u001b[0mself\u001b[0m\u001b[1;33m.\u001b[0m\u001b[0m_accessor\u001b[0m\u001b[1;33m(\u001b[0m\u001b[0mobj\u001b[0m\u001b[1;33m)\u001b[0m\u001b[1;33m\u001b[0m\u001b[0m\n\u001b[0m\u001b[0;32m    134\u001b[0m         \u001b[1;31m# Replace the property with the accessor object. Inspired by:\u001b[0m\u001b[1;33m\u001b[0m\u001b[1;33m\u001b[0m\u001b[0m\n\u001b[0;32m    135\u001b[0m         \u001b[1;31m# http://www.pydanny.com/cached-property.html\u001b[0m\u001b[1;33m\u001b[0m\u001b[1;33m\u001b[0m\u001b[0m\n",
      "\u001b[1;32mC:\\ProgramData\\Anaconda2\\lib\\site-packages\\pandas\\core\\indexes\\accessors.py\u001b[0m in \u001b[0;36m__new__\u001b[1;34m(cls, data)\u001b[0m\n\u001b[0;32m    323\u001b[0m             \u001b[1;32mpass\u001b[0m  \u001b[1;31m# we raise an attribute error anyway\u001b[0m\u001b[1;33m\u001b[0m\u001b[0m\n\u001b[0;32m    324\u001b[0m \u001b[1;33m\u001b[0m\u001b[0m\n\u001b[1;32m--> 325\u001b[1;33m         raise AttributeError(\"Can only use .dt accessor with datetimelike \"\n\u001b[0m\u001b[0;32m    326\u001b[0m                              \"values\")\n",
      "\u001b[1;31mAttributeError\u001b[0m: Can only use .dt accessor with datetimelike values"
     ]
    }
   ],
   "source": [
    "df.groupby([df[\"Date\"].dt.month, df[\"Time\"].dt.hour]).mean()"
   ]
  },
  {
   "cell_type": "code",
   "execution_count": 6,
   "metadata": {},
   "outputs": [
    {
     "data": {
      "text/html": [
       "<div>\n",
       "<style scoped>\n",
       "    .dataframe tbody tr th:only-of-type {\n",
       "        vertical-align: middle;\n",
       "    }\n",
       "\n",
       "    .dataframe tbody tr th {\n",
       "        vertical-align: top;\n",
       "    }\n",
       "\n",
       "    .dataframe thead th {\n",
       "        text-align: right;\n",
       "    }\n",
       "</style>\n",
       "<table border=\"1\" class=\"dataframe\">\n",
       "  <thead>\n",
       "    <tr style=\"text-align: right;\">\n",
       "      <th></th>\n",
       "      <th>P1</th>\n",
       "      <th>P2</th>\n",
       "      <th>Time</th>\n",
       "      <th>Date</th>\n",
       "    </tr>\n",
       "  </thead>\n",
       "  <tbody>\n",
       "    <tr>\n",
       "      <th>0</th>\n",
       "      <td>71.672</td>\n",
       "      <td>0.0</td>\n",
       "      <td>10:00</td>\n",
       "      <td>12/17/18</td>\n",
       "    </tr>\n",
       "    <tr>\n",
       "      <th>1</th>\n",
       "      <td>71.636</td>\n",
       "      <td>0.0</td>\n",
       "      <td>09:45</td>\n",
       "      <td>12/17/18</td>\n",
       "    </tr>\n",
       "    <tr>\n",
       "      <th>2</th>\n",
       "      <td>71.690</td>\n",
       "      <td>0.0</td>\n",
       "      <td>09:30</td>\n",
       "      <td>12/17/18</td>\n",
       "    </tr>\n",
       "    <tr>\n",
       "      <th>3</th>\n",
       "      <td>71.582</td>\n",
       "      <td>0.0</td>\n",
       "      <td>09:15</td>\n",
       "      <td>12/17/18</td>\n",
       "    </tr>\n",
       "    <tr>\n",
       "      <th>4</th>\n",
       "      <td>71.492</td>\n",
       "      <td>0.0</td>\n",
       "      <td>09:00</td>\n",
       "      <td>12/17/18</td>\n",
       "    </tr>\n",
       "    <tr>\n",
       "      <th>5</th>\n",
       "      <td>71.384</td>\n",
       "      <td>0.0</td>\n",
       "      <td>08:45</td>\n",
       "      <td>12/17/18</td>\n",
       "    </tr>\n",
       "    <tr>\n",
       "      <th>6</th>\n",
       "      <td>71.240</td>\n",
       "      <td>0.0</td>\n",
       "      <td>08:30</td>\n",
       "      <td>12/17/18</td>\n",
       "    </tr>\n",
       "    <tr>\n",
       "      <th>7</th>\n",
       "      <td>71.132</td>\n",
       "      <td>0.0</td>\n",
       "      <td>08:15</td>\n",
       "      <td>12/17/18</td>\n",
       "    </tr>\n",
       "    <tr>\n",
       "      <th>8</th>\n",
       "      <td>70.952</td>\n",
       "      <td>0.0</td>\n",
       "      <td>08:00</td>\n",
       "      <td>12/17/18</td>\n",
       "    </tr>\n",
       "    <tr>\n",
       "      <th>9</th>\n",
       "      <td>70.646</td>\n",
       "      <td>0.0</td>\n",
       "      <td>07:45</td>\n",
       "      <td>12/17/18</td>\n",
       "    </tr>\n",
       "    <tr>\n",
       "      <th>10</th>\n",
       "      <td>70.286</td>\n",
       "      <td>0.0</td>\n",
       "      <td>07:30</td>\n",
       "      <td>12/17/18</td>\n",
       "    </tr>\n",
       "    <tr>\n",
       "      <th>11</th>\n",
       "      <td>69.854</td>\n",
       "      <td>0.0</td>\n",
       "      <td>07:15</td>\n",
       "      <td>12/17/18</td>\n",
       "    </tr>\n",
       "    <tr>\n",
       "      <th>12</th>\n",
       "      <td>69.458</td>\n",
       "      <td>0.0</td>\n",
       "      <td>07:00</td>\n",
       "      <td>12/17/18</td>\n",
       "    </tr>\n",
       "    <tr>\n",
       "      <th>13</th>\n",
       "      <td>69.044</td>\n",
       "      <td>0.0</td>\n",
       "      <td>06:45</td>\n",
       "      <td>12/17/18</td>\n",
       "    </tr>\n",
       "    <tr>\n",
       "      <th>14</th>\n",
       "      <td>68.486</td>\n",
       "      <td>0.0</td>\n",
       "      <td>06:30</td>\n",
       "      <td>12/17/18</td>\n",
       "    </tr>\n",
       "    <tr>\n",
       "      <th>15</th>\n",
       "      <td>67.568</td>\n",
       "      <td>0.0</td>\n",
       "      <td>06:15</td>\n",
       "      <td>12/17/18</td>\n",
       "    </tr>\n",
       "    <tr>\n",
       "      <th>16</th>\n",
       "      <td>66.434</td>\n",
       "      <td>0.0</td>\n",
       "      <td>06:00</td>\n",
       "      <td>12/17/18</td>\n",
       "    </tr>\n",
       "    <tr>\n",
       "      <th>17</th>\n",
       "      <td>66.326</td>\n",
       "      <td>0.0</td>\n",
       "      <td>05:45</td>\n",
       "      <td>12/17/18</td>\n",
       "    </tr>\n",
       "    <tr>\n",
       "      <th>18</th>\n",
       "      <td>66.362</td>\n",
       "      <td>0.0</td>\n",
       "      <td>05:30</td>\n",
       "      <td>12/17/18</td>\n",
       "    </tr>\n",
       "    <tr>\n",
       "      <th>19</th>\n",
       "      <td>66.380</td>\n",
       "      <td>0.0</td>\n",
       "      <td>05:15</td>\n",
       "      <td>12/17/18</td>\n",
       "    </tr>\n",
       "    <tr>\n",
       "      <th>20</th>\n",
       "      <td>66.380</td>\n",
       "      <td>0.0</td>\n",
       "      <td>05:00</td>\n",
       "      <td>12/17/18</td>\n",
       "    </tr>\n",
       "    <tr>\n",
       "      <th>21</th>\n",
       "      <td>66.380</td>\n",
       "      <td>0.0</td>\n",
       "      <td>04:45</td>\n",
       "      <td>12/17/18</td>\n",
       "    </tr>\n",
       "    <tr>\n",
       "      <th>22</th>\n",
       "      <td>66.380</td>\n",
       "      <td>0.0</td>\n",
       "      <td>04:30</td>\n",
       "      <td>12/17/18</td>\n",
       "    </tr>\n",
       "    <tr>\n",
       "      <th>23</th>\n",
       "      <td>66.362</td>\n",
       "      <td>0.0</td>\n",
       "      <td>04:15</td>\n",
       "      <td>12/17/18</td>\n",
       "    </tr>\n",
       "    <tr>\n",
       "      <th>24</th>\n",
       "      <td>66.362</td>\n",
       "      <td>0.0</td>\n",
       "      <td>04:00</td>\n",
       "      <td>12/17/18</td>\n",
       "    </tr>\n",
       "    <tr>\n",
       "      <th>25</th>\n",
       "      <td>66.344</td>\n",
       "      <td>0.0</td>\n",
       "      <td>03:45</td>\n",
       "      <td>12/17/18</td>\n",
       "    </tr>\n",
       "    <tr>\n",
       "      <th>26</th>\n",
       "      <td>66.344</td>\n",
       "      <td>0.0</td>\n",
       "      <td>03:30</td>\n",
       "      <td>12/17/18</td>\n",
       "    </tr>\n",
       "    <tr>\n",
       "      <th>27</th>\n",
       "      <td>66.380</td>\n",
       "      <td>0.0</td>\n",
       "      <td>03:15</td>\n",
       "      <td>12/17/18</td>\n",
       "    </tr>\n",
       "    <tr>\n",
       "      <th>28</th>\n",
       "      <td>66.380</td>\n",
       "      <td>0.0</td>\n",
       "      <td>03:00</td>\n",
       "      <td>12/17/18</td>\n",
       "    </tr>\n",
       "    <tr>\n",
       "      <th>29</th>\n",
       "      <td>66.380</td>\n",
       "      <td>0.0</td>\n",
       "      <td>02:45</td>\n",
       "      <td>12/17/18</td>\n",
       "    </tr>\n",
       "    <tr>\n",
       "      <th>30</th>\n",
       "      <td>66.398</td>\n",
       "      <td>0.0</td>\n",
       "      <td>02:30</td>\n",
       "      <td>12/17/18</td>\n",
       "    </tr>\n",
       "    <tr>\n",
       "      <th>31</th>\n",
       "      <td>66.416</td>\n",
       "      <td>0.0</td>\n",
       "      <td>02:15</td>\n",
       "      <td>12/17/18</td>\n",
       "    </tr>\n",
       "    <tr>\n",
       "      <th>32</th>\n",
       "      <td>66.434</td>\n",
       "      <td>0.0</td>\n",
       "      <td>02:00</td>\n",
       "      <td>12/17/18</td>\n",
       "    </tr>\n",
       "    <tr>\n",
       "      <th>33</th>\n",
       "      <td>66.470</td>\n",
       "      <td>0.0</td>\n",
       "      <td>01:45</td>\n",
       "      <td>12/17/18</td>\n",
       "    </tr>\n",
       "    <tr>\n",
       "      <th>34</th>\n",
       "      <td>66.470</td>\n",
       "      <td>0.0</td>\n",
       "      <td>01:30</td>\n",
       "      <td>12/17/18</td>\n",
       "    </tr>\n",
       "    <tr>\n",
       "      <th>35</th>\n",
       "      <td>66.506</td>\n",
       "      <td>0.0</td>\n",
       "      <td>01:15</td>\n",
       "      <td>12/17/18</td>\n",
       "    </tr>\n",
       "    <tr>\n",
       "      <th>36</th>\n",
       "      <td>66.524</td>\n",
       "      <td>0.0</td>\n",
       "      <td>01:00</td>\n",
       "      <td>12/17/18</td>\n",
       "    </tr>\n",
       "    <tr>\n",
       "      <th>37</th>\n",
       "      <td>66.542</td>\n",
       "      <td>0.0</td>\n",
       "      <td>00:45</td>\n",
       "      <td>12/17/18</td>\n",
       "    </tr>\n",
       "    <tr>\n",
       "      <th>38</th>\n",
       "      <td>66.560</td>\n",
       "      <td>0.0</td>\n",
       "      <td>00:30</td>\n",
       "      <td>12/17/18</td>\n",
       "    </tr>\n",
       "    <tr>\n",
       "      <th>39</th>\n",
       "      <td>66.578</td>\n",
       "      <td>0.0</td>\n",
       "      <td>00:15</td>\n",
       "      <td>12/17/18</td>\n",
       "    </tr>\n",
       "    <tr>\n",
       "      <th>40</th>\n",
       "      <td>66.578</td>\n",
       "      <td>0.0</td>\n",
       "      <td>00:00</td>\n",
       "      <td>12/17/18</td>\n",
       "    </tr>\n",
       "  </tbody>\n",
       "</table>\n",
       "</div>"
      ],
      "text/plain": [
       "        P1   P2   Time      Date\n",
       "0   71.672  0.0  10:00  12/17/18\n",
       "1   71.636  0.0  09:45  12/17/18\n",
       "2   71.690  0.0  09:30  12/17/18\n",
       "3   71.582  0.0  09:15  12/17/18\n",
       "4   71.492  0.0  09:00  12/17/18\n",
       "5   71.384  0.0  08:45  12/17/18\n",
       "6   71.240  0.0  08:30  12/17/18\n",
       "7   71.132  0.0  08:15  12/17/18\n",
       "8   70.952  0.0  08:00  12/17/18\n",
       "9   70.646  0.0  07:45  12/17/18\n",
       "10  70.286  0.0  07:30  12/17/18\n",
       "11  69.854  0.0  07:15  12/17/18\n",
       "12  69.458  0.0  07:00  12/17/18\n",
       "13  69.044  0.0  06:45  12/17/18\n",
       "14  68.486  0.0  06:30  12/17/18\n",
       "15  67.568  0.0  06:15  12/17/18\n",
       "16  66.434  0.0  06:00  12/17/18\n",
       "17  66.326  0.0  05:45  12/17/18\n",
       "18  66.362  0.0  05:30  12/17/18\n",
       "19  66.380  0.0  05:15  12/17/18\n",
       "20  66.380  0.0  05:00  12/17/18\n",
       "21  66.380  0.0  04:45  12/17/18\n",
       "22  66.380  0.0  04:30  12/17/18\n",
       "23  66.362  0.0  04:15  12/17/18\n",
       "24  66.362  0.0  04:00  12/17/18\n",
       "25  66.344  0.0  03:45  12/17/18\n",
       "26  66.344  0.0  03:30  12/17/18\n",
       "27  66.380  0.0  03:15  12/17/18\n",
       "28  66.380  0.0  03:00  12/17/18\n",
       "29  66.380  0.0  02:45  12/17/18\n",
       "30  66.398  0.0  02:30  12/17/18\n",
       "31  66.416  0.0  02:15  12/17/18\n",
       "32  66.434  0.0  02:00  12/17/18\n",
       "33  66.470  0.0  01:45  12/17/18\n",
       "34  66.470  0.0  01:30  12/17/18\n",
       "35  66.506  0.0  01:15  12/17/18\n",
       "36  66.524  0.0  01:00  12/17/18\n",
       "37  66.542  0.0  00:45  12/17/18\n",
       "38  66.560  0.0  00:30  12/17/18\n",
       "39  66.578  0.0  00:15  12/17/18\n",
       "40  66.578  0.0  00:00  12/17/18"
      ]
     },
     "execution_count": 6,
     "metadata": {},
     "output_type": "execute_result"
    }
   ],
   "source": [
    "new = g.get_group('12/17/18')\n",
    "new"
   ]
  },
  {
   "cell_type": "code",
   "execution_count": 7,
   "metadata": {},
   "outputs": [
    {
     "data": {
      "text/plain": [
       "[P1    71.645\n",
       " P2     0.000\n",
       " dtype: float64, P1    71.645\n",
       " P2     0.000\n",
       " dtype: float64, P1    71.645\n",
       " P2     0.000\n",
       " dtype: float64, P1    71.645\n",
       " P2     0.000\n",
       " dtype: float64, P1    71.312\n",
       " P2     0.000\n",
       " dtype: float64]"
      ]
     },
     "execution_count": 7,
     "metadata": {},
     "output_type": "execute_result"
    }
   ],
   "source": [
    "from itertools import chain\n",
    "n=4\n",
    "New = list(chain.from_iterable([np.mean(new[i:i+n])]*n for i in range(0,len(new),n)))\n",
    "New[0:5]"
   ]
  },
  {
   "cell_type": "code",
   "execution_count": 8,
   "metadata": {},
   "outputs": [
    {
     "data": {
      "text/plain": [
       "array([71.645,  0.   ])"
      ]
     },
     "execution_count": 8,
     "metadata": {},
     "output_type": "execute_result"
    }
   ],
   "source": [
    "x = New[0].values\n",
    "# y = New['P1'].values\n",
    "x"
   ]
  },
  {
   "cell_type": "code",
   "execution_count": 9,
   "metadata": {},
   "outputs": [
    {
     "data": {
      "text/plain": [
       "[<matplotlib.lines.Line2D at 0xc65da20>]"
      ]
     },
     "execution_count": 9,
     "metadata": {},
     "output_type": "execute_result"
    },
    {
     "data": {
      "image/png": "[encoded data removed]",
      "text/plain": [
       "<Figure size 432x288 with 1 Axes>"
      ]
     },
     "metadata": {
      "needs_background": "light"
     },
     "output_type": "display_data"
    }
   ],
   "source": [
    "plt.plot(x)"
   ]
  },
  {
   "cell_type": "code",
   "execution_count": 29,
   "metadata": {},
   "outputs": [
    {
     "data": {
      "text/plain": [
       "[<matplotlib.lines.Line2D at 0xdb66160>]"
      ]
     },
     "execution_count": 29,
     "metadata": {},
     "output_type": "execute_result"
    },
    {
     "data": {
      "image/png": "[encoded data removed]",
      "text/plain": [
       "<Figure size 432x288 with 1 Axes>"
      ]
     },
     "metadata": {
      "needs_background": "light"
     },
     "output_type": "display_data"
    }
   ],
   "source": [
    "fd = df.groupby(np.arange(len(df))//4).mean()\n",
    "y = fd['P1']\n",
    "# day = fd['Date']\n",
    "plt.plot(y)"
   ]
  },
  {
   "cell_type": "code",
   "execution_count": 21,
   "metadata": {},
   "outputs": [
    {
     "data": {
      "image/png": "[encoded data removed]",
      "text/plain": [
       "<Figure size 432x288 with 1 Axes>"
      ]
     },
     "metadata": {
      "needs_background": "light"
     },
     "output_type": "display_data"
    }
   ],
   "source": [
    "# Generate Data\n",
    "\n",
    "groups = df.groupby('Date')\n",
    "\n",
    "# Plot\n",
    "fig, ax = plt.subplots()\n",
    "ax.margins(0.05) # Optional, just adds 5% padding to the autoscaling\n",
    "for name, group in groups:\n",
    "    ax.plot()\n",
    "ax.legend()\n",
    "\n",
    "plt.show()"
   ]
  },
  {
   "cell_type": "code",
   "execution_count": 36,
   "metadata": {},
   "outputs": [
    {
     "name": "stdout",
     "output_type": "stream",
     "text": [
      "93\n"
     ]
    }
   ],
   "source": [
    "Temp = df['P1'].values\n",
    "a = [x for x in Temp if float(x) <= 67]\n",
    "# print a\n",
    "print len(a)"
   ]
  },
  {
   "cell_type": "code",
   "execution_count": 55,
   "metadata": {},
   "outputs": [
    {
     "name": "stdout",
     "output_type": "stream",
     "text": [
      "12/14/18\n",
      "12/15/18\n",
      "12/16/18\n",
      "12/17/18\n"
     ]
    }
   ],
   "source": [
    "for sample, data in df.groupby('Date'):\n",
    "    print(sample) # access to sample name\n",
    "    data['P1'].plot() # process sample records"
   ]
  },
  {
   "cell_type": "code",
   "execution_count": 61,
   "metadata": {},
   "outputs": [
    {
     "data": {
      "text/plain": [
       "<matplotlib.axes._subplots.AxesSubplot at 0xd84a828>"
      ]
     },
     "execution_count": 61,
     "metadata": {},
     "output_type": "execute_result"
    },
    {
     "data": {
      "image/png": "[encoded data removed]",
      "text/plain": [
       "<Figure size 432x288 with 1 Axes>"
      ]
     },
     "metadata": {
      "needs_background": "light"
     },
     "output_type": "display_data"
    }
   ],
   "source": [
    "data['P1'].plot()"
   ]
  },
  {
   "cell_type": "code",
   "execution_count": 90,
   "metadata": {},
   "outputs": [
    {
     "name": "stdout",
     "output_type": "stream",
     "text": [
      "12/14/18\n",
      "12/15/18\n",
      "12/16/18\n",
      "12/17/18\n"
     ]
    },
    {
     "data": {
      "image/png": "[encoded data removed]",
      "text/plain": [
       "<Figure size 432x288 with 1 Axes>"
      ]
     },
     "metadata": {
      "needs_background": "light"
     },
     "output_type": "display_data"
    }
   ],
   "source": [
    "cnt = 0\n",
    "for sample, data in df.groupby('Date'):\n",
    "    print(sample) # access to sample name\n",
    "    cnt = cnt+1\n",
    "    data['P1'].plot() # process sample records\n",
    "    ax = fig.add_subplot(5,5,cnt)\n",
    "    ax.plot(df['Time'], df[['P1']])\n",
    "    ax.set_title(sample)\n",
    "\n",
    "plt.tight_layout()\n",
    "plt.title('Temperature vs Time')\n",
    "plt.xlabel('Date')\n",
    "plt.ylabel('Temperature F')\n",
    "L = pylab.legend(loc='upper center')\n",
    "L.get_texts()[0].set_text('12/14/18')\n",
    "L.get_texts()[1].set_text('12/15/18')\n",
    "L.get_texts()[2].set_text('12/16/18')\n",
    "L.get_texts()[3].set_text('12/17/18')\n",
    "plt.gca().invert_xaxis()\n",
    "plt.show()"
   ]
  },
  {
   "cell_type": "code",
   "execution_count": null,
   "metadata": {},
   "outputs": [],
   "source": []
  },
  {
   "cell_type": "code",
   "execution_count": null,
   "metadata": {},
   "outputs": [],
   "source": []
  }
 ],
 "metadata": {
  "kernelspec": {
   "display_name": "Python 2",
   "language": "python",
   "name": "python2"
  },
  "language_info": {
   "codemirror_mode": {
    "name": "ipython",
    "version": 2
   },
   "file_extension": ".py",
   "mimetype": "text/x-python",
   "name": "python",
   "nbconvert_exporter": "python",
   "pygments_lexer": "ipython2",
   "version": "2.7.15"
  }
 },
 "nbformat": 4,
 "nbformat_minor": 2
}
